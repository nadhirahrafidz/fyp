{
 "cells": [
  {
   "cell_type": "code",
   "execution_count": 14,
   "metadata": {},
   "outputs": [],
   "source": [
    "import numpy as np\n",
    "import pandas as pd\n",
    "import datetime\n",
    "import matplotlib.pyplot as plt\n",
    "from matplotlib.dates import DateFormatter, MonthLocator\n",
    "from sklearn.linear_model import LinearRegression\n",
    "from sklearn.preprocessing import MinMaxScaler\n",
    "from scipy import stats\n",
    "import math\n",
    "%matplotlib inline"
   ]
  },
  {
   "cell_type": "markdown",
   "metadata": {},
   "source": [
    "For each day, we count the searches mapped to each of these symptoms and organize the data by geographic region. The resulting dataset is a daily or weekly time series for each region showing the relative frequency of searches for each symptom."
   ]
  },
  {
   "cell_type": "markdown",
   "metadata": {},
   "source": [
    "## Preparing Dataset"
   ]
  },
  {
   "cell_type": "code",
   "execution_count": 15,
   "metadata": {},
   "outputs": [],
   "source": [
    "F = pd.read_csv('../data/current/2020_country_daily_2020_US_daily_symptoms_dataset.csv')[['date', 'sub_region_1_code', 'symptom:Ageusia', 'symptom:Anosmia', 'symptom:Arthralgia', 'symptom:Clouding of consciousness', 'symptom:Cough', 'symptom:Diarrhea', 'symptom:Fatigue', 'symptom:Fever', 'symptom:Headache', 'symptom:Myalgia', 'symptom:Nausea', 'symptom:Nosebleed', 'symptom:Rhinorrhea', 'symptom:Shortness of breath', 'symptom:Skin rash', 'symptom:Sore throat', 'symptom:Vomiting']]\n",
    "F.columns = ['date', 'open_covid_region_code', 'symptom:Ageusia', 'symptom:Anosmia', 'symptom:Arthralgia', 'symptom:Clouding of consciousness', 'symptom:Cough', 'symptom:Diarrhea', 'symptom:Fatigue', 'symptom:Fever', 'symptom:Headache', 'symptom:Myalgia', 'symptom:Nausea', 'symptom:Nosebleed', 'symptom:Rhinorrhea', 'symptom:Shortness of breath', 'symptom:Skin rash', 'symptom:Sore throat', 'symptom:Vomiting']\n",
    "F = F[F['open_covid_region_code'].notna()]\n",
    "F = F.sort_values(by=['open_covid_region_code'])\n",
    "F = F.fillna(0)"
   ]
  },
  {
   "cell_type": "code",
   "execution_count": 16,
   "metadata": {},
   "outputs": [],
   "source": [
    "F_2021 = pd.read_csv('../data/current/2021_country_daily_2021_US_daily_symptoms_dataset.csv')[['date', 'sub_region_1_code', 'symptom:Ageusia', 'symptom:Anosmia', 'symptom:Arthralgia', 'symptom:Clouding of consciousness', 'symptom:Cough', 'symptom:Diarrhea', 'symptom:Fatigue', 'symptom:Fever', 'symptom:Headache', 'symptom:Myalgia', 'symptom:Nausea', 'symptom:Nosebleed', 'symptom:Rhinorrhea', 'symptom:Shortness of breath', 'symptom:Skin rash', 'symptom:Sore throat', 'symptom:Vomiting']]\n",
    "F_2021.columns = ['date', 'open_covid_region_code', 'symptom:Ageusia', 'symptom:Anosmia', 'symptom:Arthralgia', 'symptom:Clouding of consciousness', 'symptom:Cough', 'symptom:Diarrhea', 'symptom:Fatigue', 'symptom:Fever', 'symptom:Headache', 'symptom:Myalgia', 'symptom:Nausea', 'symptom:Nosebleed', 'symptom:Rhinorrhea', 'symptom:Shortness of breath', 'symptom:Skin rash', 'symptom:Sore throat', 'symptom:Vomiting']\n",
    "F_2021 = F_2021[F_2021['open_covid_region_code'].notna()]\n",
    "F_2021 = F_2021.sort_values(by=['open_covid_region_code'])\n",
    "F_2021 = F_2021.fillna(0)"
   ]
  },
  {
   "cell_type": "code",
   "execution_count": 17,
   "metadata": {},
   "outputs": [],
   "source": [
    "actual_cases = pd.read_csv('../data/all-states-history.csv')[['date','state','positiveIncrease']]"
   ]
  },
  {
   "cell_type": "code",
   "execution_count": 18,
   "metadata": {},
   "outputs": [
    {
     "name": "stdout",
     "output_type": "stream",
     "text": [
      "last date without full 51 states:  2020-03-06\n"
     ]
    }
   ],
   "source": [
    "# EXLCUDING: AS(America Samoa), GU(Guam), MP(Northern Mariana Islands), PR(Puerto Rico), VI(Virgin Islands)\n",
    "OVERLAPPING_STATES = ['AK', 'AL', 'AR', 'AZ', 'CA', 'CO', 'CT', 'DC', 'DE', 'FL', 'GA', 'HI', 'IA', 'ID', 'IL', \n",
    "                      'IN', 'KS', 'KY', 'LA', 'MA', 'MD', 'ME', 'MI', 'MN', 'MO', 'MS', 'MT', 'NC', 'ND', 'NE', \n",
    "                      'NH', 'NJ', 'NM', 'NV', 'NY', 'OH', 'OK', 'OR', 'PA', 'RI', 'SC', 'SD', 'TN', 'TX', 'UT', \n",
    "                      'VA', 'VT', 'WA', 'WI', 'WV', 'WY']\n",
    "\n",
    "actual_cases = actual_cases[actual_cases['state'].isin(OVERLAPPING_STATES)]\n",
    "unique_dates = actual_cases['date'].unique()\n",
    "\n",
    "lacking = []\n",
    "for date in unique_dates:\n",
    "    if len(actual_cases[actual_cases.date == date]) == 51:\n",
    "        continue\n",
    "    else: \n",
    "        lacking.append(date)\n",
    "        \n",
    "print(\"last date without full 51 states: \", max(lacking))\n",
    "actual_cases = actual_cases[actual_cases.date > '2020-03-06'].sort_values(by=['date', 'state'], ascending=True)\n"
   ]
  },
  {
   "cell_type": "markdown",
   "metadata": {},
   "source": [
    "#### Actual Data for Testing"
   ]
  },
  {
   "cell_type": "code",
   "execution_count": 19,
   "metadata": {},
   "outputs": [
    {
     "name": "stdout",
     "output_type": "stream",
     "text": [
      "last date without full 51 states:  2020-03-06\n",
      "max day is 2021-03-07\n"
     ]
    }
   ],
   "source": [
    "actual_cases_testing = pd.read_csv('../data/all-states-history_till_MARCH.csv')[['date','state','positiveIncrease']]\n",
    "actual_cases_testing = actual_cases_testing[actual_cases_testing['state'].isin(OVERLAPPING_STATES)]\n",
    "unique_dates = actual_cases_testing['date'].unique()\n",
    "lacking = []\n",
    "for date in unique_dates:\n",
    "    if len(actual_cases_testing[actual_cases_testing.date == date]) == 51:\n",
    "        continue\n",
    "    else: \n",
    "        lacking.append(date)\n",
    "print(\"last date without full 51 states: \", max(lacking))\n",
    "actual_cases_testing = actual_cases_testing[actual_cases_testing.date > '2020-03-06'].sort_values(by=['date', 'state'], ascending=True)\n",
    "print(\"max day is\", max(actual_cases_testing.date))"
   ]
  },
  {
   "cell_type": "markdown",
   "metadata": {},
   "source": [
    "Checking new data"
   ]
  },
  {
   "cell_type": "code",
   "execution_count": 20,
   "metadata": {},
   "outputs": [],
   "source": [
    "NUM_STATES = F.open_covid_region_code.nunique()\n",
    "assert NUM_STATES == 51, \"NUM_STATES ERROR\"\n",
    "STATES = F.open_covid_region_code.unique()\n",
    "SYMP_LIST = ['symptom:Ageusia', 'symptom:Anosmia', 'symptom:Arthralgia', 'symptom:Clouding of consciousness', \n",
    "             'symptom:Cough', 'symptom:Diarrhea', 'symptom:Fatigue', 'symptom:Fever', 'symptom:Headache', \n",
    "             'symptom:Myalgia', 'symptom:Nausea', 'symptom:Nosebleed', 'symptom:Rhinorrhea', \n",
    "             'symptom:Shortness of breath', 'symptom:Skin rash', 'symptom:Sore throat', 'symptom:Vomiting']\n",
    "NUM_SYMP = len(SYMP_LIST)\n",
    "assert NUM_SYMP == 17, \"NUM SYMP ERROR\""
   ]
  },
  {
   "cell_type": "code",
   "execution_count": 21,
   "metadata": {},
   "outputs": [],
   "source": [
    "BORDER_DICT = {\n",
    "    'US-AK': [],\n",
    "    'US-AL': ['US-MI', 'US-TN', 'US-GA', 'US-FL'],\n",
    "    'US-AR': ['US-OK', 'US-TX', 'US-MO', 'US-TN', 'US-MS', 'US-LA'],\n",
    "    'US-AZ': ['US-NM', 'US-UT', 'US-NV', 'US-CA'],\n",
    "    'US-CA': ['US-OR', 'US-NV', 'US-AZ'],\n",
    "    'US-CO': ['US-WY', 'US-NE', 'US-KS', 'US-OK', 'US-NM', 'US-UT'],\n",
    "    'US-CT': ['US-RI', 'US-MA', 'US-NY'],\n",
    "    'US-DC': ['US-MD', 'US-VA'],\n",
    "    'US-DE': ['US-PA', 'US-NJ', 'US-MD'],\n",
    "    'US-FL': ['US-AL', 'US-GA'],\n",
    "    'US-GA': ['US-FL', 'US-AL', 'US-TN', 'US-NC', 'US-SC'],\n",
    "    'US-HI': [],\n",
    "    'US-IA': ['US-MN', 'US-WI', 'US-IL', 'US-MO', 'US-NE', 'US-SD'],\n",
    "    'US-ID': ['US-OR', 'US-NV', 'US-UT', 'US-WY', 'US-MT', 'US-WA'],\n",
    "    'US-IL': ['US-IA', 'US-MO', 'US-KY', 'US-IN', 'US-WI'],\n",
    "    'US-IN': ['US-MI', 'US-OH', 'US-KY', 'US-LI'],\n",
    "    'US-KS': ['US-CO', 'US-NE', 'US-MO', 'US-OK'],\n",
    "    'US-KY': ['US-IL', 'US-IN', 'US-OH', 'US-WV', 'US-VA', 'US-TN', 'US-MO'],\n",
    "    'US-LA': ['US-TX', 'US-AR', 'US-MS'],\n",
    "    'US-MA': ['US-NH', 'US-VT', 'US-NY', 'US-RI', 'US-CT'],\n",
    "    'US-MD': ['US-DE', 'US-VA', 'US-WV', 'US-PA'],\n",
    "    'US-ME': ['US-NH'],\n",
    "    'US-MI': ['US-WI', 'US-IN', 'US-OH'],\n",
    "    'US-MN': ['US-ND', 'US-SD', 'US-IA', 'US-WI'],\n",
    "    'US-MO': ['US-IA', 'US-IL', 'US-KY', 'US-TN', 'US-AR', 'US-OK', 'US-KS', 'US-NE'], \n",
    "    'US-MS': ['US-AL', 'US-TN', 'US-AR', 'US-LA'],\n",
    "    'US-MT': ['US-ID', 'US-WY', 'US-SD', 'US-ND'],\n",
    "    'US-NC': ['US-VA', 'US-TN', 'US-GA', 'US-SC'],\n",
    "    'US-ND': ['US-MT', 'US-SD', 'US-MN'],\n",
    "    'US-NE': ['US-SD', 'US-IA', 'US-MO', 'US-KS', 'US-CO', 'US-WY'],\n",
    "    'US-NH': ['US-ME', 'US-VT', 'US-MA'],\n",
    "    'US-NJ': ['US-PA', 'US-DE', 'US-NY'],\n",
    "    'US-NM': ['US-AZ', 'US-CO', 'US-OK', 'US-TX'],\n",
    "    'US-NV': ['US-CA', 'US-OR', 'US-ID', 'US-UT', 'US-AZ'],\n",
    "    'US-NY': ['US-VT', 'US-MA', 'US-CT', 'US-NJ', 'US-PA'],\n",
    "    'US-OH': ['US-MI', 'US-IN', 'US-KY', 'US-WV', 'US-PA'],\n",
    "    'US-OK': ['US-TX', 'US-AR', 'US-MO', 'US-KS', 'US-CO', 'US-NM'],\n",
    "    'US-OR': ['US-WA', 'US-ID', 'US-NV', 'US-CA'],\n",
    "    'US-PA': ['US-NJ', 'US-NY', 'US-DE', 'US-MD', 'US-WV', 'US-OH'], \n",
    "    'US-RI': ['US-MA', 'US-CT'],\n",
    "    'US-SC': ['US-NC', 'US-GA'],\n",
    "    'US-SD': ['US-ND', 'US-MN', 'US-IA', 'US-NE', 'US-WY', 'US-MT'], \n",
    "    'US-TN': ['US-KY', 'US-VA', 'US-NC', 'US-GA', 'US-AL', 'US-MS', 'US-AR', 'US-MO'],\n",
    "    'US-TX': ['US-NM', 'US-OK', 'US-AR', 'US-LA'],\n",
    "    'US-UT': ['US-NV', 'US-AZ', 'US-CO', 'US-WY', 'US-ID'],\n",
    "    'US-VA': ['US-WV', 'US-MD', 'US-KY', 'US-TN', 'US-NC'], \n",
    "    'US-VT': ['US-NH', 'US-MA', 'US-NY'],\n",
    "    'US-WA': ['US-OR', 'US-ID'],\n",
    "    'US-WI': ['US-MI', 'US-IL', 'US-IA', 'US-MN'],\n",
    "    'US-WV': ['US-OH', 'US-PA', 'US-MD', 'US-VA'],\n",
    "    'US-WY': ['US-ID', 'US-MT', 'US-SD', 'US-NE', 'US-CO', 'US-UT']\n",
    "}"
   ]
  },
  {
   "cell_type": "markdown",
   "metadata": {},
   "source": [
    "## Obtaining Weights & Intercept"
   ]
  },
  {
   "cell_type": "code",
   "execution_count": 22,
   "metadata": {},
   "outputs": [],
   "source": [
    "# ctrl_region_symp (Fsdn), Ysdn\n",
    "# target_region_symp (Fsdrt)\n",
    "def beta(ctrl_region_symp, Ysdn):\n",
    "    numerator = NUM_SYMP * np.sum(np.multiply(ctrl_region_symp,Ysdn)) - (np.multiply(np.sum(ctrl_region_symp), np.sum(Ysdn)))\n",
    "    denominator = NUM_SYMP * np.sum(np.square(ctrl_region_symp)) - np.square(np.sum(ctrl_region_symp))\n",
    "    return numerator / denominator\n",
    "\n",
    "def epsilon(ctrl_region_symp, Ysdn, beta):\n",
    "    numerator = np.sum(Ysdn) - (beta * np.sum(ctrl_region_symp))\n",
    "    return numerator / NUM_SYMP\n",
    "\n",
    "def R2(e2_list, target_region_symp, mean_symp_rate):\n",
    "#     mean_symp_rate = np.mean(target_region_symp)\n",
    "    numerator = np.sum(e2_list)\n",
    "    denominator = np.sum(np.square(target_region_symp - mean_symp_rate))\n",
    "    return 1 - (numerator/denominator)\n",
    "\n",
    "# Returns an array of control states\n",
    "def get_ctrl_states(target_region):\n",
    "    index = np.where(STATES != target_region)\n",
    "    ctrl_states_pool = STATES[index]\n",
    "    ctrl_states_pool = np.setdiff1d(ctrl_states_pool, BORDER_DICT[target_region])\n",
    "    return ctrl_states_pool"
   ]
  },
  {
   "cell_type": "code",
   "execution_count": 23,
   "metadata": {},
   "outputs": [],
   "source": [
    "# F_data = F filtered down to a single date\n",
    "# data = F_data without target region row\n",
    "\n",
    "def obtain_weights(F_data, target_region):\n",
    "    CTRL_REGIONS = get_ctrl_states(target_region)\n",
    "    data = F_data[F_data.open_covid_region_code.isin(CTRL_REGIONS)]\n",
    "\n",
    "    target_region = F_data[F_data.open_covid_region_code == target_region]\n",
    "    target_region_symp_rates = target_region[SYMP_LIST].to_numpy().flatten()\n",
    "    mean_target_symp_rates = np.mean(target_region_symp_rates)\n",
    "    \n",
    "    best_ctrl_region_list = []\n",
    "    beta_control = np.zeros(5)\n",
    "    epsilon_control = np.zeros(5)\n",
    "    mju_list = np.zeros((5, NUM_SYMP))\n",
    "    best_e2 = np.zeros(5)\n",
    "    \n",
    "    for n in range(5):\n",
    "        R2_list = np.zeros(len(CTRL_REGIONS))\n",
    "        \n",
    "        Ysdn = target_region_symp_rates - mju_list[n-1]\n",
    "        mean_Ysdn = np.mean(Ysdn)\n",
    "        beta_list = np.zeros(len(CTRL_REGIONS))\n",
    "        epsilon_list = np.zeros(len(CTRL_REGIONS))\n",
    "        \n",
    "        for idx_r, region in enumerate(CTRL_REGIONS):\n",
    "            region_row = data[data.open_covid_region_code == region]\n",
    "            region_symp_rates = region_row[SYMP_LIST].to_numpy().flatten()\n",
    "            \n",
    "            beta_region = beta(region_symp_rates, Ysdn)\n",
    "            epsilon_region = epsilon(region_symp_rates, Ysdn, beta_region)\n",
    "            beta_list[idx_r] = beta_region\n",
    "            epsilon_list[idx_r] = epsilon_region\n",
    "                   \n",
    "            F_hat_s = np.multiply(beta_region, region_symp_rates) + epsilon_region\n",
    "            e2_list = np.square(Ysdn - F_hat_s)\n",
    "            \n",
    "            R2_region = R2(e2_list, Ysdn, mean_Ysdn)\n",
    "            R2_list[idx_r] = R2_region\n",
    "        \n",
    "        best_ctrl_region_idx = R2_list.argmax()\n",
    "        best_ctrl_region_list.append(CTRL_REGIONS[best_ctrl_region_idx])\n",
    "        \n",
    "        CTRL_REGIONS = np.delete(CTRL_REGIONS, best_ctrl_region_idx)\n",
    "        \n",
    "        beta_control[n] = beta_list[best_ctrl_region_idx]\n",
    "        epsilon_control[n] = epsilon_list[best_ctrl_region_idx]\n",
    "        \n",
    "        best_region_row = data[data.open_covid_region_code == best_ctrl_region_list[-1]]\n",
    "        best_region_row = best_region_row[SYMP_LIST].to_numpy().flatten()\n",
    "        F_hat_s = np.multiply(beta_control[n], best_region_row) + epsilon_control[n]\n",
    "        \n",
    "        mju_list[n] = F_hat_s + mju_list[n-1]\n",
    "        e2 = np.sum(np.square(Ysdn - F_hat_s))\n",
    "        best_e2[n] = e2\n",
    "    return best_ctrl_region_list, beta_control, epsilon_control, best_e2\n",
    "   "
   ]
  },
  {
   "cell_type": "markdown",
   "metadata": {},
   "source": [
    "### Predicting Symptom Rates"
   ]
  },
  {
   "cell_type": "code",
   "execution_count": 24,
   "metadata": {},
   "outputs": [],
   "source": [
    "def pred_single_symp_rate(F_data_symp, best_ctrl_regions, beta_control, epsilon_control):\n",
    "    # F_data_symp = F filtered down to a single date & single symptom column\n",
    "    F_hat_s = 0\n",
    "    for i in range(5):\n",
    "        ctrl_region_symp_rate = F_data_symp[F_data_symp.open_covid_region_code == best_ctrl_regions[i]].to_numpy().flatten()[1] \n",
    "        F_hat_s = F_hat_s + beta_control[i] * ctrl_region_symp_rate\n",
    "    F_hat_s = F_hat_s + np.sum(epsilon_control)\n",
    "    return F_hat_s\n",
    "\n",
    "def pred_all_symp_rates(F, date, best_ctrl_regions, beta_control, epsilon_control):\n",
    "    # Prediction of all 17 symptoms of target region \n",
    "    F_data = F[F.date == date]\n",
    "    F_hat_s_list = np.zeros(NUM_SYMP)\n",
    "    for idx_s, symp in enumerate(SYMP_LIST):\n",
    "        F_data_symp = F_data[['open_covid_region_code', symp]]\n",
    "        F_hat_s = pred_single_symp_rate(F_data_symp, best_ctrl_regions, beta_control, epsilon_control)\n",
    "        F_hat_s_list[idx_s] = F_hat_s\n",
    "    return F_hat_s_list\n",
    "\n",
    "# delta is [17,1]\n",
    "def delta_symp(ground_truth_symp_rates, pred_symp_rates):\n",
    "    delta = np.subtract(ground_truth_symp_rates, pred_symp_rates)\n",
    "    return delta"
   ]
  },
  {
   "cell_type": "code",
   "execution_count": 25,
   "metadata": {},
   "outputs": [],
   "source": [
    "def get_date(date):\n",
    "    date_elems = [int(elem) for elem in date.split('-')]\n",
    "    return datetime.datetime(date_elems[0], date_elems[1], date_elems[2])\n",
    "\n",
    "# Extend start date back by one day for obtaining weights \n",
    "def prepare_date_range(start_date, end_date):\n",
    "    start = get_date(start_date) + datetime.timedelta(days=-1)\n",
    "    end = get_date(end_date)\n",
    "    date_range = list(pd.date_range(start, end))\n",
    "    date_range = [date.strftime('%Y-%m-%d') for date in date_range]\n",
    "    return date_range"
   ]
  },
  {
   "cell_type": "code",
   "execution_count": 26,
   "metadata": {},
   "outputs": [],
   "source": [
    "# Should return Delta Matrix = [period, region, symptoms]\n",
    "def symptom_rate_pred_model(F, start_date, end_date):\n",
    "    # date_range includes one extra day in the beginning \n",
    "    date_range = prepare_date_range(start_date, end_date)\n",
    "    period = len(date_range)\n",
    "    delta_mat = np.zeros((period, NUM_STATES, NUM_SYMP))\n",
    "    \n",
    "    # date_range[0] is first obtain weights date: start_date - 1\n",
    "    # date_range[1] is first day of predictions, date_range[-1] is last day of predictions\n",
    "    for idx_d, date in enumerate(date_range[:period-1]):\n",
    "        pred_date = date_range[idx_d+1]\n",
    "        # delta array of 51 states and their 17 symptoms on 1 day\n",
    "        delta_day = np.zeros((NUM_STATES, NUM_SYMP))\n",
    "        query_date_data = F[F.date == pred_date]\n",
    "        obtain_weight_date = F[F.date == date]\n",
    "        for idx_r, region in enumerate(STATES):\n",
    "            actual_symp_rates = query_date_data[query_date_data.open_covid_region_code == region]\n",
    "            best_ctrl_region_list, beta_control, epsilon_control, best_e2 = obtain_weights(obtain_weight_date, region)   \n",
    "\n",
    "            F_hat_s_list = pred_all_symp_rates(F, pred_date, best_ctrl_region_list, beta_control, epsilon_control)\n",
    "            actual_queries = actual_symp_rates.drop(['date', 'open_covid_region_code'], axis = 1).to_numpy().flatten()\n",
    "            delta_region = delta_symp(actual_queries, F_hat_s_list)\n",
    "     \n",
    "            delta_day[idx_r] = delta_region      \n",
    "        delta_mat[idx_d] = delta_day\n",
    "    return delta_mat, period"
   ]
  },
  {
   "cell_type": "markdown",
   "metadata": {},
   "source": [
    "### FROM HERE ON:\n",
    "We are only looking at delta symptom: AGEUSIA (idx 0) * SKIN RASH (idx 14)"
   ]
  },
  {
   "cell_type": "code",
   "execution_count": 27,
   "metadata": {},
   "outputs": [],
   "source": [
    "# New delta shape (period, region)\n",
    "NEW_NUM_SYMP = 1\n",
    "def new_delta_mat(delta_mat, period, idx_symp1, idx_symp2):\n",
    "    new_delta_mat = np.zeros((period, NUM_STATES))\n",
    "    for idx_d in range(period):\n",
    "        # delta day shape (51,)\n",
    "        delta_day = delta_mat[idx_d]\n",
    "        delta_symp_1_2 = np.array([ np.multiply(delta_region[idx_symp1], delta_region[idx_symp2]) for delta_region in delta_day])\n",
    "        new_delta_mat[idx_d] = delta_symp_1_2\n",
    "    return new_delta_mat"
   ]
  },
  {
   "cell_type": "markdown",
   "metadata": {},
   "source": [
    "# Symptom Rates Outbreak Detection"
   ]
  },
  {
   "cell_type": "code",
   "execution_count": 28,
   "metadata": {},
   "outputs": [],
   "source": [
    "# Average delta of all days for each region\n",
    "# delta mat shape (period, region)\n",
    "\n",
    "def average_delta(period, delta_mat):\n",
    "    ave_mat = np.zeros(NUM_STATES)\n",
    "    for idx_r, delta_region in enumerate(delta_mat.transpose()):\n",
    "        ave_region = np.mean(delta_region)\n",
    "        ave_mat[idx_r] = ave_region\n",
    "    return ave_mat\n",
    "\n",
    "def std_dev_delta(period, delta_mat):\n",
    "    std_mat = np.zeros(NUM_STATES)\n",
    "    for idx_r, delta_region in enumerate(delta_mat.transpose()):\n",
    "        std_region = np.std(delta_region)\n",
    "        std_mat[idx_r] = std_region\n",
    "    return std_mat\n",
    "\n",
    "def z_score(delta_mat, ave_mat, std_mat, period):\n",
    "    z_score = np.zeros((period, NUM_STATES))\n",
    "    for idx_d, delta_day in enumerate(delta_mat):\n",
    "        z_day = np.divide(np.subtract(delta_day, ave_mat), std_mat)\n",
    "        z_score[idx_d] = z_day\n",
    "    return z_score\n",
    "\n",
    "def L_score(z_score, TH):\n",
    "    L_score = z_score > TH\n",
    "    return L_score.astype(int)"
   ]
  },
  {
   "cell_type": "code",
   "execution_count": 29,
   "metadata": {},
   "outputs": [],
   "source": [
    "# period is the number of days that there are predictions (not including extra day for obtaining weights)\n",
    "def pred_outbreak_detection(delta_mat, period, TH):\n",
    "    ave_mat = average_delta(period, delta_mat)\n",
    "    std_mat = std_dev_delta(period, delta_mat)\n",
    "    z = z_score(delta_mat, ave_mat, std_mat, period)\n",
    "    l_score = L_score(z, TH)\n",
    "    return l_score"
   ]
  },
  {
   "cell_type": "markdown",
   "metadata": {},
   "source": [
    "## Actual Outbreak Detection - INCLUDES LOW CASE COUNT ANOMALIES"
   ]
  },
  {
   "cell_type": "code",
   "execution_count": 30,
   "metadata": {},
   "outputs": [],
   "source": [
    "# FOR WHOLE Period\n",
    "def covid_case_outbreak_detection_all(X, target_region):\n",
    "    X_target = X[X.state == target_region].drop(['date', 'state'], axis=1).to_numpy().flatten()\n",
    "    X_target[X_target < 1] = 1\n",
    "    assert np.any(X_target < 1) == False, \"Actual Cases < 1\"\n",
    "    \n",
    "    period = len(X_target)\n",
    "    \n",
    "    C = np.zeros(period)\n",
    "    for idx, X_day in enumerate(X_target):\n",
    "        if idx == 0:\n",
    "            continue  \n",
    "        Cd = np.divide( np.subtract(X_day, X_target[idx-1]) , X_target[idx-1])\n",
    "        C[idx] = Cd\n",
    "    \n",
    "    temp = np.copy(C)\n",
    "    std_C = np.std(C)\n",
    "    temp[temp > (3 * std_C)] = 0\n",
    "    std_C = np.std(temp)\n",
    "\n",
    "    L_score = C > (2 * std_C)\n",
    "    return L_score.astype(int)"
   ]
  },
  {
   "cell_type": "markdown",
   "metadata": {},
   "source": [
    "## Comparison"
   ]
  },
  {
   "cell_type": "markdown",
   "metadata": {},
   "source": [
    "__L__ is Actual __L_hat__ is Symp Rate Outbreak"
   ]
  },
  {
   "cell_type": "code",
   "execution_count": 31,
   "metadata": {},
   "outputs": [],
   "source": [
    "def get_target_region_idx(target_region):\n",
    "    i, = np.where(STATES == target_region)\n",
    "    return i.item()\n",
    "\n",
    "def window_L(L, lag, period_L_hat):\n",
    "    idx = np.arange(lag, lag + period_L_hat)\n",
    "    L_window = L[idx]\n",
    "    return L_window\n",
    "\n",
    "def comparison_all(target_region, L, L_hat, lag):\n",
    "    target_reg_idx = get_target_region_idx(target_region)\n",
    "    L_hat_region = L_hat.transpose()[target_reg_idx]\n",
    "    period = L_hat.shape[0]\n",
    "    assert len(L_hat_region) == period, \"L_hat_region size issue\"\n",
    "    \n",
    "    L_window = window_L(L, lag, period)\n",
    "    Lw = np.zeros(7)\n",
    "    S = np.zeros((period, 2))\n",
    "    \n",
    "    counted = []\n",
    "    for idx_L, L_hat_day in enumerate(L_hat_region): \n",
    "        # w holds date indexes of L_window to be compared w L_hat\n",
    "        if idx_L < 3: \n",
    "            w = np.arange(0, (idx_L+4))\n",
    "        elif idx_L >= (period-3):\n",
    "            w = np.arange((idx_L-3), period)\n",
    "        else: \n",
    "            w = np.arange((idx_L-3), (idx_L+4))\n",
    "        \n",
    "        Lw = L_window[w]\n",
    "        s = np.zeros(2)\n",
    "        if L_hat_day == 1:\n",
    "            # Is there an outbreak in the Lw window? Get position of outbreak in window\n",
    "            L_outbreaks = np.argwhere(Lw == 1).flatten()\n",
    "            # Get outbreak date index\n",
    "            date_idx_L_outbreaks = w[L_outbreaks]\n",
    "            # Check to see if the indexes of outbreak dates has been counted. \n",
    "            new_outbreaks = np.setdiff1d(date_idx_L_outbreaks, np.array(counted))\n",
    "            if new_outbreaks.shape[0] > 0:\n",
    "                idx_outbreak = new_outbreaks[0]\n",
    "                s[0] = 1\n",
    "                counted.append(idx_outbreak)\n",
    "            else:\n",
    "                s[1] = 1\n",
    "        S[idx_L] = s\n",
    "    return S, L_window"
   ]
  },
  {
   "cell_type": "code",
   "execution_count": 32,
   "metadata": {},
   "outputs": [],
   "source": [
    "def metrics(S, L_window):\n",
    "    TP_FP = np.sum(S, axis=0)\n",
    "    FN = np.sum(L_window) - TP_FP[0]\n",
    "    precision = TP_FP[0] / (TP_FP[0] + TP_FP[1])\n",
    "    recall = TP_FP[0] / (TP_FP[0] + FN)\n",
    "    Fscore = 2 * ((precision * recall) / (precision + recall))\n",
    "    return TP_FP, FN, precision, recall, Fscore"
   ]
  },
  {
   "cell_type": "markdown",
   "metadata": {},
   "source": [
    "# Training: Loading Delta Data & Creating New Signal: Ageusia x Skin Rash"
   ]
  },
  {
   "cell_type": "code",
   "execution_count": 33,
   "metadata": {},
   "outputs": [],
   "source": [
    "from numpy import load\n",
    "data_Jan = load('../results/delta/Jan_02_31.npy')\n",
    "data_Feb = load('../results/delta/Feb_01_29.npy')\n",
    "data_Mar = load('../results/delta/Mar_01_31.npy')\n",
    "data_Apr = load('../results/delta/Apr_01_30.npy')\n",
    "data_May = load('../results/delta/May_01_31.npy')\n",
    "data_Jun = load('../results/delta/June_01_30.npy')\n",
    "data_Jul = load('../results/delta/Jul_01_31.npy')\n",
    "data_Aug = load('../results/delta/Aug_01_31.npy')\n",
    "data_Sept = load('../results/delta/Sept_01_30.npy')\n",
    "data_Oct = load('../results/delta/Oct_01_31.npy')\n",
    "data_Nov = load('../results/delta/Nov_01_30.npy')\n",
    "data_Dec = load('../results/delta/Dec_01_31.npy')\n",
    "data_Jan21 = load('../results/delta/Jan21_01_31.npy')\n",
    "data_Feb21 = load('../results/delta/Feb21_01_23.npy')\n",
    "\n",
    "period_jan = data_Jan.shape[0]\n",
    "period_feb = data_Feb.shape[0]\n",
    "period_nov = data_Nov.shape[0]\n",
    "period_31 = data_Mar.shape[0]\n",
    "period_30 = data_Apr.shape[0]\n",
    "period_feb = data_Feb21.shape[0]\n",
    "\n",
    "# Where only considering Cough x Fever \n",
    "# MARCH STARTS ON 7th \n",
    "new_delta_Mar = new_delta_mat(data_Mar, period_31, 0, 1)[6:]\n",
    "new_delta_Apr = new_delta_mat(data_Apr, period_30, 0, 1)\n",
    "new_delta_May = new_delta_mat(data_May, period_31, 0, 1)\n",
    "new_delta_Jun = new_delta_mat(data_Jun, period_30, 0, 1)\n",
    "new_delta_Jul = new_delta_mat(data_Jul, period_31, 0, 1)\n",
    "new_delta_Aug = new_delta_mat(data_Aug, period_31, 0, 1)\n",
    "new_delta_Sept = new_delta_mat(data_Sept, period_30, 0, 1)\n",
    "new_delta_Oct = new_delta_mat(data_Oct, period_31, 0, 1)\n",
    "new_delta_Nov = new_delta_mat(data_Nov, period_30, 0, 1)\n",
    "new_delta_Dec = new_delta_mat(data_Dec, period_31, 0, 1)\n",
    "new_delta_Jan21 = new_delta_mat(data_Jan21, period_31, 0, 1)\n",
    "new_delta_Feb21 = new_delta_mat(data_Feb21, period_feb, 0, 1)"
   ]
  },
  {
   "cell_type": "code",
   "execution_count": 34,
   "metadata": {},
   "outputs": [
    {
     "name": "stdout",
     "output_type": "stream",
     "text": [
      "300\n"
     ]
    }
   ],
   "source": [
    "# Joining of new delta: 7th Mar - Jan 2021\n",
    "new_delta = np.concatenate((new_delta_Mar, new_delta_Apr), axis=0)\n",
    "new_delta = np.concatenate((new_delta, new_delta_May), axis=0)\n",
    "new_delta = np.concatenate((new_delta, new_delta_Jun), axis=0)\n",
    "new_delta = np.concatenate((new_delta, new_delta_Jul), axis=0)\n",
    "new_delta = np.concatenate((new_delta, new_delta_Aug), axis=0)\n",
    "new_delta = np.concatenate((new_delta, new_delta_Sept), axis=0)\n",
    "new_delta = np.concatenate((new_delta, new_delta_Oct), axis=0)\n",
    "new_delta = np.concatenate((new_delta, new_delta_Nov), axis=0)\n",
    "new_delta = np.concatenate((new_delta, new_delta_Dec), axis=0)\n",
    "\n",
    "# March 7th - 31 Dec 2020\n",
    "L_hat_period_all = new_delta.shape[0]\n",
    "print(L_hat_period_all)"
   ]
  },
  {
   "cell_type": "markdown",
   "metadata": {},
   "source": [
    "## Actual Cases"
   ]
  },
  {
   "cell_type": "code",
   "execution_count": 35,
   "metadata": {},
   "outputs": [],
   "source": [
    "#INCLUDE PREVIOUS DAY FOR FIRST DAY OF EACH MONTH\n",
    "# actual_mar has 25 days (starting 7th)\n",
    "actual_mar = actual_cases[(actual_cases.date >= '2020-03-07') & (actual_cases.date <= '2020-03-31')]\n",
    "actual_apr = actual_cases[(actual_cases.date >= '2020-03-31') & (actual_cases.date <= '2020-04-30')]\n",
    "actual_may = actual_cases[(actual_cases.date >= '2020-04-30') & (actual_cases.date <= '2020-05-31')]\n",
    "actual_jun = actual_cases[(actual_cases.date >= '2020-05-31') & (actual_cases.date <= '2020-06-30')]\n",
    "actual_jul = actual_cases[(actual_cases.date >= '2020-06-30') & (actual_cases.date <= '2020-07-31')]\n",
    "actual_aug = actual_cases[(actual_cases.date >= '2020-07-31') & (actual_cases.date <= '2020-08-31')]\n",
    "actual_sept = actual_cases[(actual_cases.date >= '2020-08-31') & (actual_cases.date <= '2020-09-30')]\n",
    "actual_oct = actual_cases[(actual_cases.date >= '2020-09-30') & (actual_cases.date <= '2020-10-31')]\n",
    "actual_nov = actual_cases[(actual_cases.date >= '2020-10-31') & (actual_cases.date <= '2020-11-30')]\n",
    "actual_dec = actual_cases[(actual_cases.date >= '2020-11-30') & (actual_cases.date <= '2020-12-31')]\n",
    "actual_jan21 = actual_cases[(actual_cases.date >= '2020-12-31') & (actual_cases.date <= '2021-01-31')]\n",
    "\n",
    "# 30 days before 2021-02-23 is 2021-01-24\n",
    "actual_all = actual_cases[(actual_cases.date >= '2020-03-01') & (actual_cases.date <= '2021-02-23')]"
   ]
  },
  {
   "cell_type": "code",
   "execution_count": 36,
   "metadata": {},
   "outputs": [
    {
     "name": "stdout",
     "output_type": "stream",
     "text": [
      "L\n",
      "2020-03-07 - 2021-02-23\n",
      "\n",
      "L_hat\n",
      "2020-03-07 - 2020-12-31\n"
     ]
    }
   ],
   "source": [
    "print(\"L\")\n",
    "print(min(actual_all.date) + \" - \" + max(actual_all.date))\n",
    "print()\n",
    "print(\"L_hat\")\n",
    "print(\"2020-03-07 - 2020-12-31\")"
   ]
  },
  {
   "cell_type": "markdown",
   "metadata": {},
   "source": [
    "# EXPERIMENTATION 1: BASE"
   ]
  },
  {
   "cell_type": "markdown",
   "metadata": {},
   "source": [
    "Parameters:\n",
    "07 March 2020 - 31 Jan 2021 | TH = 0.1 | Lag: 0 days\n",
    "\n",
    "- Strict matching\n",
    "- False anomalies included\n",
    "- no smoothing"
   ]
  },
  {
   "cell_type": "markdown",
   "metadata": {},
   "source": [
    "#### Comparison & Metrics"
   ]
  },
  {
   "cell_type": "markdown",
   "metadata": {},
   "source": [
    "#### Getting the optimum lag for each state "
   ]
  },
  {
   "cell_type": "code",
   "execution_count": 37,
   "metadata": {},
   "outputs": [
    {
     "name": "stderr",
     "output_type": "stream",
     "text": [
      "/Users/nadhirahrafidz/opt/anaconda3/lib/python3.7/site-packages/ipykernel_launcher.py:6: RuntimeWarning: invalid value encountered in double_scalars\n",
      "  \n"
     ]
    }
   ],
   "source": [
    "# return TP_FP, FN, precision, recall, Fscore\n",
    "TH = np.array([0,0.1,0.2,0.3,0.4,0.5,0.6,0.7,0.8,0.9,1.0,1.1,1.2,1.3,1.4,1.5,1.6,1.7,1.8,1.9,2.0])\n",
    "# TH = 0\n",
    "lag = np.arange(0,31)\n",
    "state_best_th_lag = np.zeros((NUM_STATES,2))\n",
    "\n",
    "for idx_s, state in enumerate(STATES):\n",
    "    best_th_lag = np.zeros(2)\n",
    "    best_lag = 0\n",
    "    best_f_score = 0\n",
    "    target = state[3:]\n",
    "    L = covid_case_outbreak_detection_all(actual_all, target)\n",
    "    for idx_th, th in enumerate(TH):\n",
    "        for idx_l, l in enumerate(lag):   \n",
    "            \n",
    "            L_hat = pred_outbreak_detection(new_delta, L_hat_period_all, th)\n",
    "            all_S, L_window = comparison_all(state, L, L_hat, l)\n",
    "            metr = metrics(all_S, L_window)\n",
    "            \n",
    "            if metr[4] > best_f_score:\n",
    "                best_th_lag[0] = th\n",
    "                best_th_lag[1] = l\n",
    "                best_f_score = metr[4]\n",
    "                \n",
    "    state_best_th_lag[idx_s] = best_th_lag"
   ]
  },
  {
   "cell_type": "markdown",
   "metadata": {},
   "source": [
    "#### Metrics based on optimum lag and (state_best_th_lag)"
   ]
  },
  {
   "cell_type": "code",
   "execution_count": 38,
   "metadata": {},
   "outputs": [],
   "source": [
    "state_TP_FP = np.zeros((NUM_STATES,2))\n",
    "state_FN = np.zeros(NUM_STATES)\n",
    "state_fscore = np.zeros(NUM_STATES)\n",
    "state_precision = np.zeros(NUM_STATES)\n",
    "state_recall = np.zeros(NUM_STATES)\n",
    "\n",
    "total_real_anomalies = np.zeros(NUM_STATES)\n",
    "\n",
    "for idx_s, state in enumerate(STATES):\n",
    "    target = state[3:]    \n",
    "    L = covid_case_outbreak_detection_all(actual_all, target)\n",
    "            \n",
    "    L_hat = pred_outbreak_detection(new_delta, L_hat_period_all, state_best_th_lag[idx_s][0])\n",
    "    \n",
    "    all_S, L_window = comparison_all(state, L, L_hat, int(state_best_th_lag[idx_s][1]))\n",
    "    total_real_anomalies[idx_s] = np.sum(L_window)\n",
    "    metr = metrics(all_S, L_window)\n",
    "    \n",
    "    state_TP_FP[idx_s] = metr[0]\n",
    "    state_FN[idx_s] = metr[1]\n",
    "    state_precision[idx_s] = metr[2]\n",
    "    state_recall[idx_s] = metr[3]\n",
    "    state_fscore[idx_s] = metr[4]"
   ]
  },
  {
   "cell_type": "code",
   "execution_count": 39,
   "metadata": {},
   "outputs": [],
   "source": [
    "np.savetxt(\"state_TP_FP.csv\", state_TP_FP, delimiter=\",\")\n",
    "np.savetxt(\"state_FN.csv\", state_FN, delimiter=\",\")\n",
    "np.savetxt(\"state_precision.csv\", state_precision, delimiter=\",\")\n",
    "np.savetxt(\"state_recall.csv\", state_recall, delimiter=\",\")\n",
    "np.savetxt(\"state_fscore.csv\", state_fscore, delimiter=\",\")\n",
    "np.savetxt(\"total_real_anomalies.csv\", total_real_anomalies, delimiter=\",\")\n",
    "np.savetxt(\"state_best_th_lag.csv\", state_best_th_lag, delimiter=\",\")"
   ]
  },
  {
   "cell_type": "markdown",
   "metadata": {},
   "source": [
    "# Testing (Based on Exp 1)"
   ]
  },
  {
   "cell_type": "markdown",
   "metadata": {},
   "source": [
    "## Preparing Data: L HAT"
   ]
  },
  {
   "cell_type": "markdown",
   "metadata": {},
   "source": [
    "Testing period: 1 Jan 2021 - 5 February 2021 (36 days)"
   ]
  },
  {
   "cell_type": "code",
   "execution_count": 40,
   "metadata": {},
   "outputs": [
    {
     "name": "stdout",
     "output_type": "stream",
     "text": [
      "36 days\n"
     ]
    }
   ],
   "source": [
    "new_delta_testing = np.concatenate((new_delta_Jan21, new_delta_Feb21[:5]), axis=0)\n",
    "testing_period = len(new_delta_testing)\n",
    "print(testing_period, \"days\")\n",
    "\n",
    "test_ave_mat = average_delta(testing_period, new_delta_testing)\n",
    "test_std_mat = std_dev_delta(testing_period, new_delta_testing)"
   ]
  },
  {
   "cell_type": "code",
   "execution_count": 41,
   "metadata": {},
   "outputs": [
    {
     "name": "stdout",
     "output_type": "stream",
     "text": [
      "67 days\n"
     ]
    }
   ],
   "source": [
    "actual_testing = actual_cases_testing[(actual_cases_testing.date >= \"2020-12-31\") & (actual_cases_testing.date <= \"2021-03-07\")]\n",
    "print(actual_testing.date.nunique(), \"days\")\n",
    "#REMEMBER TO EXCLUDE L[0]! (31st Dec 2020)"
   ]
  },
  {
   "cell_type": "code",
   "execution_count": 42,
   "metadata": {},
   "outputs": [],
   "source": [
    "def z_score_test(delta_region_day, ave, std, period):\n",
    "    z_score = np.zeros(period)\n",
    "    for idx_d, delta in enumerate(delta_region_day):\n",
    "        z_day = np.divide(np.subtract(delta, ave), std)\n",
    "        z_score[idx_d] = z_day\n",
    "    return z_score\n",
    "\n",
    "def comparison_test(L, L_hat_region, lag):\n",
    "    period = len(L_hat_region) \n",
    "    L_window = window_L(L, lag, period)\n",
    "    Lw = np.zeros(7)\n",
    "    S = np.zeros((period, 2))\n",
    "    counted = []\n",
    "    for idx_L, L_hat_day in enumerate(L_hat_region): \n",
    "        if idx_L < 3: \n",
    "            w = np.arange(0, (idx_L+4))\n",
    "        elif idx_L >= (period-3):\n",
    "            w = np.arange((idx_L-3), period)\n",
    "        else: \n",
    "            w = np.arange((idx_L-3), (idx_L+4))\n",
    "        Lw = L_window[w]\n",
    "        s = np.zeros(2)\n",
    "        if L_hat_day == 1:\n",
    "            # Is there an outbreak in the Lw window? Get position of outbreak in window\n",
    "            L_outbreaks = np.argwhere(Lw == 1).flatten()\n",
    "            # Get outbreak date index\n",
    "            date_idx_L_outbreaks = w[L_outbreaks]\n",
    "            # Check to see if the indexes of outbreak dates has been counted. \n",
    "            new_outbreaks = np.setdiff1d(date_idx_L_outbreaks, np.array(counted))\n",
    "            if new_outbreaks.shape[0] > 0:\n",
    "                idx_outbreak = new_outbreaks[0]\n",
    "                s[0] = 1\n",
    "                counted.append(idx_outbreak)\n",
    "            else:\n",
    "                s[1] = 1\n",
    "        S[idx_L] = s\n",
    "    return S, L_window\n",
    "\n",
    "def test(test_delta, actual_testing, testing_period, ave_mat, std_mat, best_th_lag):\n",
    "    f_score = np.zeros(NUM_STATES)\n",
    "    TP_FP = np.zeros((NUM_STATES,2))\n",
    "    FN = np.zeros(NUM_STATES)\n",
    "    true_anomalies = np.zeros(NUM_STATES)\n",
    "    \n",
    "    for idx_s, state in enumerate(STATES):\n",
    "        target = state[3:]\n",
    "        L_test = covid_case_outbreak_detection_all(actual_testing, target)[1:]\n",
    "        assert L_test.shape[0] == testing_period + 30, \"L length issue\"\n",
    "        \n",
    "        test_delta_region = test_delta.transpose()[idx_s]\n",
    "        z_score_region = z_score_test(test_delta_region, ave_mat[idx_s], std_mat[idx_s], testing_period)\n",
    "        L_hat_testing = L_score(z_score_region, best_th_lag[idx_s][0]) \n",
    "        \n",
    "        S_test, L_window_test = comparison_test(L_test, L_hat_testing, int(best_th_lag[idx_s][1]))\n",
    "        met = metrics(S_test, L_window_test)\n",
    "        \n",
    "        true_anomalies[idx_s] = np.sum(L_window_test)\n",
    "        f_score[idx_s] = met[4]\n",
    "        TP_FP[idx_s] = met[0]\n",
    "        FN[idx_s] = met[1]\n",
    "    return f_score, TP_FP, FN, true_anomalies"
   ]
  },
  {
   "cell_type": "code",
   "execution_count": 43,
   "metadata": {},
   "outputs": [
    {
     "name": "stderr",
     "output_type": "stream",
     "text": [
      "/Users/nadhirahrafidz/opt/anaconda3/lib/python3.7/site-packages/ipykernel_launcher.py:6: RuntimeWarning: invalid value encountered in double_scalars\n",
      "  \n",
      "/Users/nadhirahrafidz/opt/anaconda3/lib/python3.7/site-packages/ipykernel_launcher.py:4: RuntimeWarning: invalid value encountered in double_scalars\n",
      "  after removing the cwd from sys.path.\n",
      "/Users/nadhirahrafidz/opt/anaconda3/lib/python3.7/site-packages/ipykernel_launcher.py:5: RuntimeWarning: invalid value encountered in double_scalars\n",
      "  \"\"\"\n"
     ]
    }
   ],
   "source": [
    "f_test, TP_FP_test, FN_test, true_anomalies = test(new_delta_testing, actual_testing, testing_period, test_ave_mat, test_std_mat, state_best_th_lag)"
   ]
  },
  {
   "cell_type": "code",
   "execution_count": 44,
   "metadata": {},
   "outputs": [
    {
     "data": {
      "image/png": "[encoded data removed]",
      "text/plain": [
       "<Figure size 1800x864 with 1 Axes>"
      ]
     },
     "metadata": {
      "needs_background": "light"
     },
     "output_type": "display_data"
    }
   ],
   "source": [
    "# plt.figure(figsize=(24,8))\n",
    "# plt.title(\"Number of Covid-19 Case Anomalies from January 1st to March 3rd by State\")\n",
    "# plt.ylabel(\"Count\")\n",
    "# plt.bar([states[3:] for states in STATES], L_window_sum)\n",
    "\n",
    "fig = plt.figure(figsize=(25, 12))\n",
    "ax = fig.add_subplot(111)\n",
    "_X = np.arange(NUM_STATES)\n",
    "X = [state[3:] for state in STATES]\n",
    "ax.bar(_X + 0.2, [int(anom) for anom in true_anomalies], width=0.4, color='tomato', align='center', label=\"Covid-19 Case Anomalies\")\n",
    "ax.bar(_X - 0.2, [int(TP_FP[0]+TP_FP[1]) for TP_FP in TP_FP_test], width=0.4, color='steelblue', align='center', label=\"Symptom Rate Anomalies\")\n",
    "ax.autoscale(tight=True)\n",
    "plt.xticks(_X, X)\n",
    "plt.yticks(range(0, 30))\n",
    "plt.title(\"Symptom Rate Anomalies and Covid-19 Case Anomalies during Testing Period\")\n",
    "plt.ylabel(\"Count\")\n",
    "plt.legend()\n",
    "plt.show()"
   ]
  },
  {
   "cell_type": "markdown",
   "metadata": {},
   "source": [
    "Saving values"
   ]
  },
  {
   "cell_type": "code",
   "execution_count": 47,
   "metadata": {},
   "outputs": [],
   "source": [
    "np.savetxt(\"f_test.csv\", f_test, delimiter=\",\")\n",
    "np.savetxt(\"TP_FP_test.csv\", TP_FP_test, delimiter=\",\")\n",
    "np.savetxt(\"FN_test.csv\", FN_test, delimiter=\",\")\n",
    "np.savetxt(\"L_window_sum_test.csv\", true_anomalies, delimiter=\",\")"
   ]
  },
  {
   "cell_type": "code",
   "execution_count": 46,
   "metadata": {},
   "outputs": [
    {
     "data": {
      "image/png": "[encoded data removed]",
      "text/plain": [
       "<Figure size 1440x288 with 1 Axes>"
      ]
     },
     "metadata": {
      "needs_background": "light"
     },
     "output_type": "display_data"
    }
   ],
   "source": [
    "fig, ax = plt.subplots(1, 1)\n",
    "fig.set_figheight(4)\n",
    "fig.set_figwidth(20)\n",
    "all = ax.plot(np.array(range(len(f_test))),f_test, marker='o',  markersize=7, color='c', linewidth=2)"
   ]
  },
  {
   "cell_type": "code",
   "execution_count": null,
   "metadata": {},
   "outputs": [],
   "source": []
  }
 ],
 "metadata": {
  "kernelspec": {
   "display_name": "Python 3",
   "language": "python",
   "name": "python3"
  },
  "language_info": {
   "codemirror_mode": {
    "name": "ipython",
    "version": 3
   },
   "file_extension": ".py",
   "mimetype": "text/x-python",
   "name": "python",
   "nbconvert_exporter": "python",
   "pygments_lexer": "ipython3",
   "version": "3.7.6"
  }
 },
 "nbformat": 4,
 "nbformat_minor": 4
}
