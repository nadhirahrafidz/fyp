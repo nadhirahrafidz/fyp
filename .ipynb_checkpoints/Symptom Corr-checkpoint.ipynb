{
 "cells": [
  {
   "cell_type": "code",
   "execution_count": 17,
   "metadata": {},
   "outputs": [],
   "source": [
    "import numpy as np\n",
    "import pandas as pd\n",
    "import datetime\n",
    "import matplotlib.pyplot as plt\n",
    "from matplotlib.dates import DateFormatter, MonthLocator\n",
    "from sklearn.linear_model import LinearRegression\n",
    "from sklearn.preprocessing import MinMaxScaler\n",
    "from scipy import stats\n",
    "import math\n",
    "from numpy import load\n",
    "%matplotlib inline"
   ]
  },
  {
   "cell_type": "code",
   "execution_count": 18,
   "metadata": {},
   "outputs": [],
   "source": [
    "F = pd.read_csv('data/current/2020_country_daily_2020_US_daily_symptoms_dataset.csv')[['date', 'sub_region_1_code', 'symptom:Common cold', 'symptom:Cough', 'symptom:Diarrhea', 'symptom:Fatigue', 'symptom:Fever', 'symptom:Headache','symptom:Myalgia', 'symptom:Nausea', 'symptom:Shortness of breath', 'symptom:Skin rash', 'symptom:Sore throat', 'symptom:Vomiting']]\n",
    "F.columns = ['date', 'open_covid_region_code', 'symptom:Common cold', 'symptom:Cough', 'symptom:Diarrhea', 'symptom:Fatigue', 'symptom:Fever', 'symptom:Headache','symptom:Myalgia', 'symptom:Nausea', 'symptom:Shortness of breath', 'symptom:Skin rash', 'symptom:Sore throat', 'symptom:Vomiting']\n",
    "F = F[F['open_covid_region_code'].notna()]\n",
    "F = F.sort_values(by=['open_covid_region_code'])\n",
    "F = F.fillna(0)"
   ]
  },
  {
   "cell_type": "code",
   "execution_count": 19,
   "metadata": {},
   "outputs": [],
   "source": [
    "actual_cases = pd.read_csv('data/all-states-history.csv')[['date','state','positiveIncrease']]"
   ]
  },
  {
   "cell_type": "code",
   "execution_count": 20,
   "metadata": {},
   "outputs": [
    {
     "name": "stdout",
     "output_type": "stream",
     "text": [
      "last date without full 51 states:  2020-03-06\n"
     ]
    }
   ],
   "source": [
    "# EXLCUDING: AS(America Samoa), GU(Guam), MP(Northern Mariana Islands), PR(Puerto Rico), VI(Virgin Islands)\n",
    "OVERLAPPING_STATES = ['AK', 'AL', 'AR', 'AZ', 'CA', 'CO', 'CT', 'DC', 'DE', 'FL', 'GA', 'HI', 'IA', 'ID', 'IL', \n",
    "                      'IN', 'KS', 'KY', 'LA', 'MA', 'MD', 'ME', 'MI', 'MN', 'MO', 'MS', 'MT', 'NC', 'ND', 'NE', \n",
    "                      'NH', 'NJ', 'NM', 'NV', 'NY', 'OH', 'OK', 'OR', 'PA', 'RI', 'SC', 'SD', 'TN', 'TX', 'UT', \n",
    "                      'VA', 'VT', 'WA', 'WI', 'WV', 'WY']\n",
    "\n",
    "actual_cases = actual_cases[actual_cases['state'].isin(OVERLAPPING_STATES)]\n",
    "unique_dates = actual_cases['date'].unique()\n",
    "\n",
    "lacking = []\n",
    "for date in unique_dates:\n",
    "    if len(actual_cases[actual_cases.date == date]) == 51:\n",
    "        continue\n",
    "    else: \n",
    "        lacking.append(date)\n",
    "        \n",
    "print(\"last date without full 51 states: \", max(lacking))\n",
    "actual_cases = actual_cases[actual_cases.date > '2020-03-06'].sort_values(by=['date', 'state'], ascending=True)"
   ]
  },
  {
   "cell_type": "code",
   "execution_count": 21,
   "metadata": {
    "jupyter": {
     "source_hidden": true
    }
   },
   "outputs": [],
   "source": [
    "NUM_STATES = F.open_covid_region_code.nunique()\n",
    "assert NUM_STATES == 51, \"NUM_STATES ERROR\"\n",
    "STATES = F.open_covid_region_code.unique()\n",
    "SYMP_LIST = ['symptom:Common cold', 'symptom:Cough', 'symptom:Diarrhea', 'symptom:Fatigue', 'symptom:Fever', 'symptom:Headache',\n",
    "             'symptom:Myalgia', 'symptom:Nausea', 'symptom:Shortness of breath', 'symptom:Skin rash', 'symptom:Sore throat', 'symptom:Vomiting']\n",
    "NUM_SYMP = len(SYMP_LIST)"
   ]
  },
  {
   "cell_type": "code",
   "execution_count": 22,
   "metadata": {
    "jupyter": {
     "source_hidden": true
    }
   },
   "outputs": [],
   "source": [
    "BORDER_DICT = {\n",
    "    'US-AK': [],\n",
    "    'US-AL': ['US-MI', 'US-TN', 'US-GA', 'US-FL'],\n",
    "    'US-AR': ['US-OK', 'US-TX', 'US-MO', 'US-TN', 'US-MS', 'US-LA'],\n",
    "    'US-AZ': ['US-NM', 'US-UT', 'US-NV', 'US-CA'],\n",
    "    'US-CA': ['US-OR', 'US-NV', 'US-AZ'],\n",
    "    'US-CO': ['US-WY', 'US-NE', 'US-KS', 'US-OK', 'US-NM', 'US-UT'],\n",
    "    'US-CT': ['US-RI', 'US-MA', 'US-NY'],\n",
    "    'US-DC': ['US-MD', 'US-VA'],\n",
    "    'US-DE': ['US-PA', 'US-NJ', 'US-MD'],\n",
    "    'US-FL': ['US-AL', 'US-GA'],\n",
    "    'US-GA': ['US-FL', 'US-AL', 'US-TN', 'US-NC', 'US-SC'],\n",
    "    'US-HI': [],\n",
    "    'US-IA': ['US-MN', 'US-WI', 'US-IL', 'US-MO', 'US-NE', 'US-SD'],\n",
    "    'US-ID': ['US-OR', 'US-NV', 'US-UT', 'US-WY', 'US-MT', 'US-WA'],\n",
    "    'US-IL': ['US-IA', 'US-MO', 'US-KY', 'US-IN', 'US-WI'],\n",
    "    'US-IN': ['US-MI', 'US-OH', 'US-KY', 'US-LI'],\n",
    "    'US-KS': ['US-CO', 'US-NE', 'US-MO', 'US-OK'],\n",
    "    'US-KY': ['US-IL', 'US-IN', 'US-OH', 'US-WV', 'US-VA', 'US-TN', 'US-MO'],\n",
    "    'US-LA': ['US-TX', 'US-AR', 'US-MS'],\n",
    "    'US-MA': ['US-NH', 'US-VT', 'US-NY', 'US-RI', 'US-CT'],\n",
    "    'US-MD': ['US-DE', 'US-VA', 'US-WV', 'US-PA'],\n",
    "    'US-ME': ['US-NH'],\n",
    "    'US-MI': ['US-WI', 'US-IN', 'US-OH'],\n",
    "    'US-MN': ['US-ND', 'US-SD', 'US-IA', 'US-WI'],\n",
    "    'US-MO': ['US-IA', 'US-IL', 'US-KY', 'US-TN', 'US-AR', 'US-OK', 'US-KS', 'US-NE'], \n",
    "    'US-MS': ['US-AL', 'US-TN', 'US-AR', 'US-LA'],\n",
    "    'US-MT': ['US-ID', 'US-WY', 'US-SD', 'US-ND'],\n",
    "    'US-NC': ['US-VA', 'US-TN', 'US-GA', 'US-SC'],\n",
    "    'US-ND': ['US-MT', 'US-SD', 'US-MN'],\n",
    "    'US-NE': ['US-SD', 'US-IA', 'US-MO', 'US-KS', 'US-CO', 'US-WY'],\n",
    "    'US-NH': ['US-ME', 'US-VT', 'US-MA'],\n",
    "    'US-NJ': ['US-PA', 'US-DE', 'US-NY'],\n",
    "    'US-NM': ['US-AZ', 'US-CO', 'US-OK', 'US-TX'],\n",
    "    'US-NV': ['US-CA', 'US-OR', 'US-ID', 'US-UT', 'US-AZ'],\n",
    "    'US-NY': ['US-VT', 'US-MA', 'US-CT', 'US-NJ', 'US-PA'],\n",
    "    'US-OH': ['US-MI', 'US-IN', 'US-KY', 'US-WV', 'US-PA'],\n",
    "    'US-OK': ['US-TX', 'US-AR', 'US-MO', 'US-KS', 'US-CO', 'US-NM'],\n",
    "    'US-OR': ['US-WA', 'US-ID', 'US-NV', 'US-CA'],\n",
    "    'US-PA': ['US-NJ', 'US-NY', 'US-DE', 'US-MD', 'US-WV', 'US-OH'], \n",
    "    'US-RI': ['US-MA', 'US-CT'],\n",
    "    'US-SC': ['US-NC', 'US-GA'],\n",
    "    'US-SD': ['US-ND', 'US-MN', 'US-IA', 'US-NE', 'US-WY', 'US-MT'], \n",
    "    'US-TN': ['US-KY', 'US-VA', 'US-NC', 'US-GA', 'US-AL', 'US-MS', 'US-AR', 'US-MO'],\n",
    "    'US-TX': ['US-NM', 'US-OK', 'US-AR', 'US-LA'],\n",
    "    'US-UT': ['US-NV', 'US-AZ', 'US-CO', 'US-WY', 'US-ID'],\n",
    "    'US-VA': ['US-WV', 'US-MD', 'US-KY', 'US-TN', 'US-NC'], \n",
    "    'US-VT': ['US-NH', 'US-MA', 'US-NY'],\n",
    "    'US-WA': ['US-OR', 'US-ID'],\n",
    "    'US-WI': ['US-MI', 'US-IL', 'US-IA', 'US-MN'],\n",
    "    'US-WV': ['US-OH', 'US-PA', 'US-MD', 'US-VA'],\n",
    "    'US-WY': ['US-ID', 'US-MT', 'US-SD', 'US-NE', 'US-CO', 'US-UT']\n",
    "}"
   ]
  },
  {
   "cell_type": "code",
   "execution_count": 23,
   "metadata": {
    "jupyter": {
     "source_hidden": true
    }
   },
   "outputs": [],
   "source": [
    "def window_L(L, lag, period_L_hat):\n",
    "    idx = np.arange(lag, lag + period_L_hat)\n",
    "    L_window = L[idx]\n",
    "    return L_window"
   ]
  },
  {
   "cell_type": "code",
   "execution_count": 24,
   "metadata": {
    "jupyter": {
     "source_hidden": true
    }
   },
   "outputs": [],
   "source": [
    "# New delta shape (period, region)\n",
    "NEW_NUM_SYMP = 1\n",
    "def new_delta_mat(delta_mat, period, idx_symp1, idx_symp2):\n",
    "    new_delta_mat = np.zeros((period, NUM_STATES))\n",
    "    for idx_d in range(period):\n",
    "        # delta day shape (51,)\n",
    "        delta_day = delta_mat[idx_d]\n",
    "        delta_symp_1_2 = np.array([ np.multiply(delta_region[idx_symp1], delta_region[idx_symp2]) for delta_region in delta_day])\n",
    "        new_delta_mat[idx_d] = delta_symp_1_2\n",
    "    return new_delta_mat"
   ]
  },
  {
   "cell_type": "code",
   "execution_count": 25,
   "metadata": {
    "jupyter": {
     "source_hidden": true
    }
   },
   "outputs": [],
   "source": [
    "def get_date(date):\n",
    "    date_elems = [int(elem) for elem in date.split('-')]\n",
    "    return datetime.datetime(date_elems[0], date_elems[1], date_elems[2])\n",
    "\n",
    "# Extend start date back by one day for obtaining weights \n",
    "def prepare_date_range(start_date, end_date):\n",
    "    start = get_date(start_date) + datetime.timedelta(days=-1)\n",
    "    end = get_date(end_date)\n",
    "    date_range = list(pd.date_range(start, end))\n",
    "    date_range = [date.strftime('%Y-%m-%d') for date in date_range]\n",
    "    return date_range"
   ]
  },
  {
   "cell_type": "code",
   "execution_count": 26,
   "metadata": {
    "jupyter": {
     "source_hidden": true
    }
   },
   "outputs": [],
   "source": [
    "# Average delta of all days for each region\n",
    "# delta mat shape (period, region)\n",
    "\n",
    "def average_delta(period, delta_mat):\n",
    "    ave_mat = np.zeros(NUM_STATES)\n",
    "    for idx_r, delta_region in enumerate(delta_mat.transpose()):\n",
    "        ave_region = np.mean(delta_region)\n",
    "        ave_mat[idx_r] = ave_region\n",
    "    return ave_mat\n",
    "\n",
    "def std_dev_delta(period, delta_mat):\n",
    "    std_mat = np.zeros(NUM_STATES)\n",
    "    for idx_r, delta_region in enumerate(delta_mat.transpose()):\n",
    "        std_region = np.std(delta_region)\n",
    "        std_mat[idx_r] = std_region\n",
    "    return std_mat\n",
    "\n",
    "def z_score(delta_mat, ave_mat, std_mat, period):\n",
    "    z_score = np.zeros((period, NUM_STATES))\n",
    "    for idx_d, delta_day in enumerate(delta_mat):\n",
    "        z_day = np.divide(np.subtract(delta_day, ave_mat), std_mat)\n",
    "        z_score[idx_d] = z_day\n",
    "    return z_score\n",
    "\n",
    "def L_score(z_score, TH):\n",
    "    L_score = z_score > TH\n",
    "    return L_score.astype(int)"
   ]
  },
  {
   "cell_type": "code",
   "execution_count": 27,
   "metadata": {
    "jupyter": {
     "source_hidden": true
    }
   },
   "outputs": [],
   "source": [
    "# period is the number of days that there are predictions (not including extra day for obtaining weights)\n",
    "def pred_outbreak_detection(delta_mat, period, TH):\n",
    "    ave_mat = average_delta(period, delta_mat)\n",
    "    std_mat = std_dev_delta(period, delta_mat)\n",
    "    z = z_score(delta_mat, ave_mat, std_mat, period)\n",
    "    l_score = L_score(z, TH)\n",
    "    return l_score"
   ]
  },
  {
   "cell_type": "code",
   "execution_count": 28,
   "metadata": {
    "jupyter": {
     "source_hidden": true
    }
   },
   "outputs": [],
   "source": [
    "# FOR WHOLE Period\n",
    "def covid_case_outbreak_detection_all(X, target_region):\n",
    "    X_target = X[X.state == target_region].drop(['date', 'state'], axis=1).to_numpy().flatten()\n",
    "    X_target[X_target < 1] = 1\n",
    "    assert np.any(X_target < 1) == False, \"Actual Cases < 1\"\n",
    "    \n",
    "    period = len(X_target)\n",
    "    \n",
    "    C = np.zeros(period)\n",
    "    for idx, X_day in enumerate(X_target):\n",
    "        if idx == 0:\n",
    "            continue  \n",
    "        Cd = np.divide( np.subtract(X_day, X_target[idx-1]) , X_target[idx-1])\n",
    "        C[idx] = Cd\n",
    "    \n",
    "    temp = np.copy(C)\n",
    "    std_C = np.std(C)\n",
    "    temp[temp > (3 * std_C)] = 0\n",
    "    std_C = np.std(temp)\n",
    "\n",
    "    L_score = C > (2 * std_C)\n",
    "\n",
    "    return L_score.astype(int)"
   ]
  },
  {
   "cell_type": "code",
   "execution_count": 29,
   "metadata": {
    "jupyter": {
     "source_hidden": true
    }
   },
   "outputs": [],
   "source": [
    "def get_target_region_idx(target_region):\n",
    "    i, = np.where(STATES == target_region)\n",
    "    return i.item()\n",
    "\n",
    "def window_L(L, lag, period_L_hat):\n",
    "    idx = np.arange(lag, lag + period_L_hat)\n",
    "#     print(\"idx\", idx)\n",
    "    L_window = L[idx]\n",
    "    return L_window\n",
    "\n",
    "def comparison_all(target_region, L, L_hat, lag):\n",
    "    target_reg_idx = get_target_region_idx(target_region)\n",
    "    L_hat_region = L_hat.transpose()[target_reg_idx]\n",
    "    period = L_hat.shape[0]\n",
    "    assert len(L_hat_region) == period, \"L_hat_region size issue\"\n",
    "    \n",
    "    L_window = window_L(L, lag, period)\n",
    "    Lw = np.zeros(7)\n",
    "    S = np.zeros((period, 2))\n",
    "    \n",
    "    counted = []\n",
    "    for idx_L, L_hat_day in enumerate(L_hat_region): \n",
    "        # w holds date indexes of L_window to be compared w L_hat\n",
    "        if idx_L < 3: \n",
    "            w = np.arange(0, (idx_L+4))\n",
    "        elif idx_L >= (period-3):\n",
    "            w = np.arange((idx_L-3), period)\n",
    "        else: \n",
    "            w = np.arange((idx_L-3), (idx_L+4))\n",
    "        \n",
    "        Lw = L_window[w]\n",
    "        s = np.zeros(2)\n",
    "        if L_hat_day == 1:\n",
    "            # Is there an outbreak in the Lw window? Get position of outbreak in window\n",
    "            L_outbreaks = np.argwhere(Lw == 1).flatten()\n",
    "            # Get outbreak date index\n",
    "            date_idx_L_outbreaks = w[L_outbreaks]\n",
    "            # Check to see if the indexes of outbreak dates has been counted. \n",
    "            new_outbreaks = np.setdiff1d(date_idx_L_outbreaks, np.array(counted))\n",
    "            if new_outbreaks.shape[0] > 0:\n",
    "                idx_outbreak = new_outbreaks[0]\n",
    "                s[0] = 1\n",
    "                counted.append(idx_outbreak)\n",
    "            else:\n",
    "                s[1] = 1\n",
    "        S[idx_L] = s\n",
    "    return S, L_window"
   ]
  },
  {
   "cell_type": "code",
   "execution_count": 30,
   "metadata": {
    "jupyter": {
     "source_hidden": true
    }
   },
   "outputs": [],
   "source": [
    "def metrics(S, L_window):\n",
    "    TP_FP = np.sum(S, axis=0)\n",
    "    FN = np.sum(L_window) - TP_FP[0]\n",
    "    precision = TP_FP[0] / (TP_FP[0] + TP_FP[1])\n",
    "    recall = TP_FP[0] / (TP_FP[0] + FN)\n",
    "    Fscore = 2 * ((precision * recall) / (precision + recall))\n",
    "    return TP_FP, FN, precision, recall, Fscore"
   ]
  },
  {
   "cell_type": "markdown",
   "metadata": {},
   "source": [
    "## Correlation Analysis (starting March) - New Symptoms"
   ]
  },
  {
   "cell_type": "code",
   "execution_count": 31,
   "metadata": {},
   "outputs": [],
   "source": [
    "symptoms = F[(F.date >= '2020-03-07') & (F.date <= '2020-12-31')].sort_values(by=['date', 'open_covid_region_code'], ascending=True)\n",
    "symptoms_aggregated = symptoms.groupby('date').sum().to_numpy().transpose()\n",
    "period = symptoms.date.nunique()\n",
    "\n",
    "cases = actual_cases[(actual_cases.date >= '2020-03-07') & (actual_cases.date <= '2021-02-29')]\n",
    "cases_agg = cases.groupby('date').sum().to_numpy()\n",
    "\n",
    "# corr_agg (LAG, SYMP, R, P)\n",
    "corr_agg = np.zeros((31, len(SYMP_LIST), 2))\n",
    "for lag in range(31):\n",
    "    lagged_cases = window_L(cases_agg, lag, period).reshape(period)\n",
    "    scaler = MinMaxScaler(feature_range=(0, 1))\n",
    "    normalised_cases = scaler.fit_transform(lagged_cases.reshape(-1,1)).flatten()\n",
    "    for idx_s, symp in enumerate(SYMP_LIST):\n",
    "    #     corr_agg.append(np.array(stats.pearsonr(cases_agg.reshape(178), symptoms_aggregated[idx_s])))\n",
    "        corr = stats.pearsonr(normalised_cases, symptoms_aggregated[idx_s])\n",
    "        corr_agg[lag][idx_s][0] = corr[0]\n",
    "        corr_agg[lag][idx_s][1] = corr[1]"
   ]
  },
  {
   "cell_type": "code",
   "execution_count": 26,
   "metadata": {},
   "outputs": [
    {
     "data": {
      "text/plain": [
       "<matplotlib.legend.Legend at 0x7fe2c8ebb590>"
      ]
     },
     "execution_count": 26,
     "metadata": {},
     "output_type": "execute_result"
    },
    {
     "data": {
      "image/png": "[encoded data removed]",
      "text/plain": [
       "<Figure size 864x504 with 1 Axes>"
      ]
     },
     "metadata": {
      "needs_background": "light"
     },
     "output_type": "display_data"
    }
   ],
   "source": [
    "corr_agg[0]\n",
    "fig, ax = plt.subplots(figsize=(12,7))\n",
    "# ax.set_yticks(np.arange(-0.8, 0.3, 0.1))\n",
    "ax.plot(corr_agg[:,0,0], label=\"Common Cold\")\n",
    "ax.plot(corr_agg[:,1,0], label=\"Cough\")\n",
    "ax.plot(corr_agg[:,2,0], label=\"Diarrhea\")\n",
    "ax.plot(corr_agg[:,3,0], label=\"Fatigue\")\n",
    "ax.plot(corr_agg[:,4,0], label=\"Fever\")\n",
    "ax.plot(corr_agg[:,5,0], label=\"Headache\")\n",
    "ax.plot(corr_agg[:,6,0], label=\"Myalgia\")\n",
    "ax.plot(corr_agg[:,7,0], label=\"Nausea\")\n",
    "ax.plot(corr_agg[:,8,0], label=\"Shortness of breath\")\n",
    "ax.plot(corr_agg[:,9,0], label=\"Skin Rash\")\n",
    "ax.plot(corr_agg[:,10,0], label=\"Sore Throat\")\n",
    "ax.plot(corr_agg[:,11,0], label=\"Vomiting\")\n",
    "ax.set_xlabel(\"Lag (days)\")\n",
    "ax.set_ylabel(\"Pearson Correlation Coefficient, R\")\n",
    "ax.set_title(\"Lagged Pearson Correlation Coefficient\")\n",
    "\n",
    "ax.legend()"
   ]
  },
  {
   "cell_type": "code",
   "execution_count": 27,
   "metadata": {},
   "outputs": [
    {
     "data": {
      "text/plain": [
       "Text(0.5, 1.0, 'Pearson Correlation of Aggregated Symptom Rates and Aggregated New Covid-19 Cases')"
      ]
     },
     "execution_count": 27,
     "metadata": {},
     "output_type": "execute_result"
    },
    {
     "data": {
      "image/png": "[encoded data removed]",
      "text/plain": [
       "<Figure size 720x504 with 1 Axes>"
      ]
     },
     "metadata": {
      "needs_background": "light"
     },
     "output_type": "display_data"
    }
   ],
   "source": [
    "fig, ax = plt.subplots(figsize=(10,7))\n",
    "# Example data\n",
    "y_pos = np.arange(NUM_SYMP)\n",
    "ax.barh(y_pos, [c[0] for c in corr_agg[0,:,:]], align='center')\n",
    "ax.set_yticks(y_pos)\n",
    "ax.set_yticklabels([s[8:] for s in SYMP_LIST])\n",
    "ax.invert_yaxis()  # labels read top-to-bottom\n",
    "ax.set_xlabel('Pearson Correlation, r')\n",
    "ax.set_title('Pearson Correlation of Aggregated Symptom Rates and Aggregated New Covid-19 Cases')"
   ]
  },
  {
   "cell_type": "code",
   "execution_count": null,
   "metadata": {},
   "outputs": [],
   "source": [
    "fig, ax = plt.subplots(figsize=(10,7))\n",
    "x = symptoms_aggregated[-2]\n",
    "ax.scatter(x, cases_agg.reshape(178))\n",
    "ax.set_xlabel('Aggregated Symptom Rate: Common cold')\n",
    "ax.set_ylabel('Normalized Daily Covid-19 Cases')\n",
    "ax.set_title('Symptom Rate: Common cold')\n",
    "z = np.polyfit(x, cases_agg.reshape(178), 1)\n",
    "p = np.poly1d(z)\n",
    "plt.plot(x,p(x),\"r--\")\n",
    "plt.show()"
   ]
  },
  {
   "cell_type": "markdown",
   "metadata": {},
   "source": [
    "## Correlation Analysis (Starting May) - New Symptoms"
   ]
  },
  {
   "cell_type": "code",
   "execution_count": 15,
   "metadata": {},
   "outputs": [],
   "source": [
    "symptoms = F[(F.date >= '2020-05-01') & (F.date <= '2020-12-31')].sort_values(by=['date', 'open_covid_region_code'], ascending=True)\n",
    "symptoms_aggregated = symptoms.groupby('date').sum().to_numpy().transpose()\n",
    "period = symptoms.date.nunique()\n",
    "\n",
    "cases = actual_cases[(actual_cases.date >= '2020-05-01') & (actual_cases.date <= '2021-02-29')]\n",
    "cases_agg = cases.groupby('date').sum().to_numpy()\n",
    "\n",
    "# corr_agg (LAG, SYMP, R, P)\n",
    "corr_agg = np.zeros((31, len(SYMP_LIST), 2))\n",
    "for lag in range(31):\n",
    "    lagged_cases = window_L(cases_agg, lag, period).reshape(period)\n",
    "    scaler = MinMaxScaler(feature_range=(0, 1))\n",
    "    normalised_cases = scaler.fit_transform(lagged_cases.reshape(-1,1)).flatten()\n",
    "    for idx_s, symp in enumerate(SYMP_LIST):\n",
    "    #     corr_agg.append(np.array(stats.pearsonr(cases_agg.reshape(178), symptoms_aggregated[idx_s])))\n",
    "        corr = stats.pearsonr(normalised_cases, symptoms_aggregated[idx_s])\n",
    "        corr_agg[lag][idx_s][0] = corr[0]\n",
    "        corr_agg[lag][idx_s][1] = corr[1]"
   ]
  },
  {
   "cell_type": "code",
   "execution_count": 16,
   "metadata": {},
   "outputs": [
    {
     "data": {
      "text/plain": [
       "<matplotlib.legend.Legend at 0x7fce099b2f10>"
      ]
     },
     "execution_count": 16,
     "metadata": {},
     "output_type": "execute_result"
    },
    {
     "data": {
      "image/png": "[encoded data removed]",
      "text/plain": [
       "<Figure size 864x504 with 1 Axes>"
      ]
     },
     "metadata": {
      "needs_background": "light"
     },
     "output_type": "display_data"
    }
   ],
   "source": [
    "corr_agg[0]\n",
    "fig, ax = plt.subplots(figsize=(12,7))\n",
    "# ax.set_yticks(np.arange(-0.8, 0.3, 0.1))\n",
    "ax.plot(corr_agg[:,0,0], label=\"Common Cold\")\n",
    "ax.plot(corr_agg[:,1,0], label=\"Cough\")\n",
    "ax.plot(corr_agg[:,2,0], label=\"Diarrhea\")\n",
    "ax.plot(corr_agg[:,3,0], label=\"Fatigue\")\n",
    "ax.plot(corr_agg[:,4,0], label=\"Fever\")\n",
    "ax.plot(corr_agg[:,5,0], label=\"Headache\")\n",
    "ax.plot(corr_agg[:,6,0], label=\"Myalgia\")\n",
    "ax.plot(corr_agg[:,7,0], label=\"Nausea\")\n",
    "ax.plot(corr_agg[:,8,0], label=\"Shortness of breath\")\n",
    "ax.plot(corr_agg[:,9,0], label=\"Skin Rash\")\n",
    "ax.plot(corr_agg[:,10,0], label=\"Sore Throat\")\n",
    "ax.plot(corr_agg[:,11,0], label=\"Vomiting\")\n",
    "ax.set_xlabel(\"Lag (days)\")\n",
    "ax.set_ylabel(\"Pearson Correlation Coefficient, R\")\n",
    "ax.set_title(\"Lagged Pearson Correlation Coefficient\")\n",
    "\n",
    "ax.legend()"
   ]
  },
  {
   "cell_type": "code",
   "execution_count": 31,
   "metadata": {},
   "outputs": [
    {
     "data": {
      "text/plain": [
       "Text(0.5, 1.0, 'Pearson Correlation of Aggregated Symptom Rates and Aggregated New Covid-19 Cases')"
      ]
     },
     "execution_count": 31,
     "metadata": {},
     "output_type": "execute_result"
    },
    {
     "data": {
      "image/png": "[encoded data removed]",
      "text/plain": [
       "<Figure size 720x504 with 1 Axes>"
      ]
     },
     "metadata": {
      "needs_background": "light"
     },
     "output_type": "display_data"
    }
   ],
   "source": [
    "fig, ax = plt.subplots(figsize=(10,7))\n",
    "# Example data\n",
    "y_pos = np.arange(NUM_SYMP)\n",
    "ax.barh(y_pos, [c[0] for c in corr_agg[0,:,:]], align='center')\n",
    "ax.set_yticks(y_pos)\n",
    "ax.set_yticklabels([s[8:] for s in SYMP_LIST])\n",
    "ax.invert_yaxis()  # labels read top-to-bottom\n",
    "ax.set_xlabel('Pearson Correlation, r')\n",
    "ax.set_title('Pearson Correlation of Aggregated Symptom Rates and Aggregated New Covid-19 Cases')"
   ]
  },
  {
   "cell_type": "markdown",
   "metadata": {},
   "source": [
    "Symptoms have a stronger correlation with the covid-19 cases - are they significant? This tells us that perhaps we will get better results if we ommit March and April"
   ]
  },
  {
   "cell_type": "markdown",
   "metadata": {},
   "source": [
    "## Small Model - New Symptoms (Cold and Skin)"
   ]
  },
  {
   "cell_type": "code",
   "execution_count": 49,
   "metadata": {},
   "outputs": [
    {
     "name": "stdout",
     "output_type": "stream",
     "text": [
      "New delta created\n"
     ]
    }
   ],
   "source": [
    "data_May = load('results/new_symp/May20_01_31.npy')\n",
    "data_Jun = load('results/new_symp/Jun20_01_30.npy')\n",
    "data_Jul = load('results/new_symp/Jul20_01_31.npy')\n",
    "data_Aug = load('results/new_symp/Aug20_01_31.npy')\n",
    "data_Sept = load('results/new_symp/Sept20_01_30.npy')\n",
    "data_Oct = load('results/new_symp/Oct20_01_31.npy')\n",
    "data_Nov = load('results/new_symp/Nov20_01_30.npy')\n",
    "data_Dec = load('results/new_symp/Dec20_01_31.npy')\n",
    "\n",
    "period_31 = data_Jul.shape[0]\n",
    "period_30 = data_Sept.shape[0]\n",
    "\n",
    "# Where only considering DIARRHEA x SKIN RASH\n",
    "# MARCH STARTS ON 7th \n",
    "new_delta_May = new_delta_mat(data_May, period_31, 0, 9)\n",
    "new_delta_Jun = new_delta_mat(data_Jun, period_30, 0, 9)\n",
    "new_delta_Jul = new_delta_mat(data_Jul, period_31, 0, 9)\n",
    "new_delta_Aug = new_delta_mat(data_Aug, period_31, 0, 9)\n",
    "new_delta_Sept = new_delta_mat(data_Sept, period_30, 0, 9)\n",
    "new_delta_Oct = new_delta_mat(data_Oct, period_31, 0, 9)\n",
    "new_delta_Nov = new_delta_mat(data_Nov, period_30, 0, 9)\n",
    "new_delta_Dec = new_delta_mat(data_Dec, period_31, 0, 9)\n",
    "print(\"New delta created\")"
   ]
  },
  {
   "cell_type": "code",
   "execution_count": 51,
   "metadata": {},
   "outputs": [
    {
     "name": "stdout",
     "output_type": "stream",
     "text": [
      "Original training data loaded 245\n"
     ]
    }
   ],
   "source": [
    "# Joining of new delta: 7th Mar - Jan 2021\n",
    "new_delta_small = np.concatenate((new_delta_May, new_delta_Jun), axis=0)\n",
    "new_delta_small = np.concatenate((new_delta_small, new_delta_Jul), axis=0)\n",
    "new_delta_small = np.concatenate((new_delta_small, new_delta_Aug), axis=0)\n",
    "new_delta_small = np.concatenate((new_delta_small, new_delta_Sept), axis=0)\n",
    "new_delta_small = np.concatenate((new_delta_small, new_delta_Oct), axis=0)\n",
    "new_delta_small = np.concatenate((new_delta_small, new_delta_Nov), axis=0)\n",
    "new_delta_small = np.concatenate((new_delta_small, new_delta_Dec), axis=0)\n",
    "\n",
    "# March 7th - 31 Dec 2020\n",
    "L_hat_period_small = new_delta_small.shape[0]\n",
    "print(\"Original training data loaded\", L_hat_period_small)"
   ]
  },
  {
   "cell_type": "code",
   "execution_count": 45,
   "metadata": {},
   "outputs": [
    {
     "name": "stdout",
     "output_type": "stream",
     "text": [
      "L\n",
      "2020-05-01 - 2021-02-23\n"
     ]
    }
   ],
   "source": [
    "# 30 days before 2021-02-23 is 2021-01-24\n",
    "actual_all_small = actual_cases[(actual_cases.date >= '2020-05-01') & (actual_cases.date <= '2021-02-23')]\n",
    "print(\"L\")\n",
    "print(min(actual_all_small.date) + \" - \" + max(actual_all_small.date))"
   ]
  },
  {
   "cell_type": "code",
   "execution_count": 46,
   "metadata": {
    "collapsed": true,
    "jupyter": {
     "outputs_hidden": true
    }
   },
   "outputs": [
    {
     "name": "stdout",
     "output_type": "stream",
     "text": [
      "[ 1.8 16. ]\n"
     ]
    },
    {
     "name": "stderr",
     "output_type": "stream",
     "text": [
      "/Users/nadhirahrafidz/opt/anaconda3/lib/python3.7/site-packages/ipykernel_launcher.py:6: RuntimeWarning: invalid value encountered in double_scalars\n",
      "  \n"
     ]
    },
    {
     "name": "stdout",
     "output_type": "stream",
     "text": [
      "[1.7 6. ]\n",
      "[1.3 0. ]\n",
      "[0.3 5. ]\n",
      "[0.9 2. ]\n",
      "[ 0.6 21. ]\n",
      "[0.3 1. ]\n",
      "[ 1.5 19. ]\n",
      "[ 1. 10.]\n",
      "[ 1.7 13. ]\n",
      "[0.8 4. ]\n",
      "[1. 9.]\n",
      "[0.5 8. ]\n",
      "[ 1.8 20. ]\n",
      "[ 1.5 22. ]\n",
      "[ 0.6 10. ]\n",
      "[ 0.2 28. ]\n",
      "[0.9 0. ]\n",
      "[ 0.3 29. ]\n",
      "[ 0.8 27. ]\n",
      "[ 1.6 25. ]\n",
      "[1.8 5. ]\n",
      "[ 0.5 18. ]\n",
      "[2. 4.]\n",
      "[1.8 1. ]\n",
      "[ 1. 17.]\n",
      "[ 0.6 16. ]\n",
      "[ 1. 18.]\n",
      "[1.4 2. ]\n",
      "[ 1.9 12. ]\n",
      "[0.6 3. ]\n",
      "[ 1.7 23. ]\n",
      "[ 1. 24.]\n",
      "[ 0.3 13. ]\n",
      "[ 0.6 25. ]\n",
      "[ 1. 26.]\n",
      "[ 1.5 16. ]\n",
      "[ 1.5 25. ]\n",
      "[ 1.5 27. ]\n",
      "[ 1.9 30. ]\n",
      "[ 1.5 21. ]\n",
      "[ 0.8 20. ]\n",
      "[ 0.6 14. ]\n",
      "[ 0.5 24. ]\n",
      "[ 1.5 16. ]\n",
      "[ 2. 29.]\n",
      "[0.6 9. ]\n",
      "[ 0.6 26. ]\n",
      "[ 0.7 19. ]\n",
      "[0.5 7. ]\n",
      "[1.2 0. ]\n"
     ]
    }
   ],
   "source": [
    "# return TP_FP, FN, precision, recall, Fscore\n",
    "TH = np.array([0,0.1,0.2,0.3,0.4,0.5,0.6,0.7,0.8,0.9,1.0,1.1,1.2,1.3,1.4,1.5,1.6,1.7,1.8,1.9,2.0])\n",
    "lag = np.arange(0,31)\n",
    "state_best_th_lag = np.zeros((NUM_STATES,2))\n",
    "\n",
    "for idx_s, state in enumerate(STATES):\n",
    "    best_th_lag = np.zeros(2)\n",
    "    best_lag = 0\n",
    "    best_f_score = 0\n",
    "    target = state[3:]\n",
    "    L = covid_case_outbreak_detection_all(actual_all_small, target)\n",
    "    for idx_th, th in enumerate(TH):\n",
    "        for idx_l, l in enumerate(lag):   \n",
    "            \n",
    "            L_hat = pred_outbreak_detection(new_delta_small, L_hat_period_small, th)\n",
    "            all_S, L_window = comparison_all(state, L, L_hat, l)\n",
    "            metr = metrics(all_S, L_window)\n",
    "            \n",
    "            if metr[4] > best_f_score:\n",
    "                best_th_lag[0] = th\n",
    "                best_th_lag[1] = l\n",
    "                best_f_score = metr[4]\n",
    "                \n",
    "    state_best_th_lag[idx_s] = best_th_lag\n",
    "    print(best_th_lag)\n",
    "np.save(\"best_th_lag_small_SYMP.npy\", state_best_th_lag)"
   ]
  },
  {
   "cell_type": "code",
   "execution_count": 47,
   "metadata": {},
   "outputs": [],
   "source": [
    "state_best_th_lag = load('best_th_lag_small_SYMP.npy')\n",
    "state_TP_FP = np.zeros((NUM_STATES,2))\n",
    "state_FN = np.zeros(NUM_STATES)\n",
    "state_fscore = np.zeros(NUM_STATES)\n",
    "state_precision = np.zeros(NUM_STATES)\n",
    "state_recall = np.zeros(NUM_STATES)\n",
    "\n",
    "total_real_anomalies = np.zeros(NUM_STATES)\n",
    "\n",
    "for idx_s, state in enumerate(STATES):\n",
    "    target = state[3:]    \n",
    "    L = covid_case_outbreak_detection_all(actual_all_small, target)\n",
    "            \n",
    "    L_hat = pred_outbreak_detection(new_delta_small, L_hat_period_small, state_best_th_lag[idx_s][0])\n",
    "    \n",
    "    all_S, L_window = comparison_all(state, L, L_hat, int(state_best_th_lag[idx_s][1]))\n",
    "    total_real_anomalies[idx_s] = np.sum(L_window)\n",
    "    metr = metrics(all_S, L_window)\n",
    "    \n",
    "    state_TP_FP[idx_s] = metr[0]\n",
    "    state_FN[idx_s] = metr[1]\n",
    "    state_precision[idx_s] = metr[2]\n",
    "    state_recall[idx_s] = metr[3]\n",
    "    state_fscore[idx_s] = metr[4]"
   ]
  },
  {
   "cell_type": "code",
   "execution_count": 48,
   "metadata": {},
   "outputs": [
    {
     "data": {
      "text/plain": [
       "0.4726263772351419"
      ]
     },
     "execution_count": 48,
     "metadata": {},
     "output_type": "execute_result"
    }
   ],
   "source": [
    "np.mean(state_fscore)"
   ]
  },
  {
   "cell_type": "markdown",
   "metadata": {},
   "source": [
    "## Small Model - New Symptoms (Cough and Common Cold)"
   ]
  },
  {
   "cell_type": "code",
   "execution_count": 32,
   "metadata": {},
   "outputs": [
    {
     "name": "stdout",
     "output_type": "stream",
     "text": [
      "New delta created\n"
     ]
    }
   ],
   "source": [
    "data_May = load('results/new_symp/May20_01_31.npy')\n",
    "data_Jun = load('results/new_symp/Jun20_01_30.npy')\n",
    "data_Jul = load('results/new_symp/Jul20_01_31.npy')\n",
    "data_Aug = load('results/new_symp/Aug20_01_31.npy')\n",
    "data_Sept = load('results/new_symp/Sept20_01_30.npy')\n",
    "data_Oct = load('results/new_symp/Oct20_01_31.npy')\n",
    "data_Nov = load('results/new_symp/Nov20_01_30.npy')\n",
    "data_Dec = load('results/new_symp/Dec20_01_31.npy')\n",
    "\n",
    "period_31 = data_Jul.shape[0]\n",
    "period_30 = data_Sept.shape[0]\n",
    "\n",
    "# Where only considering DIARRHEA x SKIN RASH\n",
    "# MARCH STARTS ON 7th \n",
    "new_delta_May = new_delta_mat(data_May, period_31, 0, 1)\n",
    "new_delta_Jun = new_delta_mat(data_Jun, period_30, 0, 1)\n",
    "new_delta_Jul = new_delta_mat(data_Jul, period_31, 0, 1)\n",
    "new_delta_Aug = new_delta_mat(data_Aug, period_31, 0, 1)\n",
    "new_delta_Sept = new_delta_mat(data_Sept, period_30, 0, 1)\n",
    "new_delta_Oct = new_delta_mat(data_Oct, period_31, 0, 1)\n",
    "new_delta_Nov = new_delta_mat(data_Nov, period_30, 0, 1)\n",
    "new_delta_Dec = new_delta_mat(data_Dec, period_31, 0, 1)\n",
    "print(\"New delta created\")"
   ]
  },
  {
   "cell_type": "code",
   "execution_count": 33,
   "metadata": {},
   "outputs": [
    {
     "name": "stdout",
     "output_type": "stream",
     "text": [
      "Original training data loaded 245\n"
     ]
    }
   ],
   "source": [
    "# Joining of new delta: 7th Mar - Jan 2021\n",
    "new_delta_small = np.concatenate((new_delta_May, new_delta_Jun), axis=0)\n",
    "new_delta_small = np.concatenate((new_delta_small, new_delta_Jul), axis=0)\n",
    "new_delta_small = np.concatenate((new_delta_small, new_delta_Aug), axis=0)\n",
    "new_delta_small = np.concatenate((new_delta_small, new_delta_Sept), axis=0)\n",
    "new_delta_small = np.concatenate((new_delta_small, new_delta_Oct), axis=0)\n",
    "new_delta_small = np.concatenate((new_delta_small, new_delta_Nov), axis=0)\n",
    "new_delta_small = np.concatenate((new_delta_small, new_delta_Dec), axis=0)\n",
    "\n",
    "# March 7th - 31 Dec 2020\n",
    "L_hat_period_small = new_delta_small.shape[0]\n",
    "print(\"Original training data loaded\", L_hat_period_small)"
   ]
  },
  {
   "cell_type": "code",
   "execution_count": 54,
   "metadata": {},
   "outputs": [
    {
     "name": "stderr",
     "output_type": "stream",
     "text": [
      "/Users/nadhirahrafidz/opt/anaconda3/lib/python3.7/site-packages/ipykernel_launcher.py:6: RuntimeWarning: invalid value encountered in double_scalars\n",
      "  \n"
     ]
    },
    {
     "name": "stdout",
     "output_type": "stream",
     "text": [
      "[1.8 0. ]\n",
      "[ 1.8 19. ]\n",
      "[1.1 3. ]\n",
      "[0.9 5. ]\n",
      "[0.9 5. ]\n",
      "[ 0.7 13. ]\n",
      "[0.3 0. ]\n",
      "[1.4 7. ]\n",
      "[ 1.4 30. ]\n",
      "[ 2. 16.]\n",
      "[ 1.1 18. ]\n",
      "[1.5 9. ]\n",
      "[ 0.4 10. ]\n",
      "[1.6 0. ]\n",
      "[ 1.5 21. ]\n",
      "[ 0.3 12. ]\n",
      "[ 0.1 30. ]\n",
      "[1.4 2. ]\n",
      "[ 0. 29.]\n",
      "[ 1.4 14. ]\n",
      "[ 0.9 16. ]\n",
      "[ 1.9 13. ]\n",
      "[ 0.6 11. ]\n",
      "[ 2. 23.]\n",
      "[ 1.9 18. ]\n",
      "[0.7 5. ]\n",
      "[1.1 8. ]\n",
      "[ 0.6 23. ]\n",
      "[ 1.6 13. ]\n",
      "[ 1.4 25. ]\n",
      "[ 0.8 26. ]\n",
      "[ 1.8 24. ]\n",
      "[ 0.6 10. ]\n",
      "[ 0.1 20. ]\n",
      "[ 1.1 20. ]\n",
      "[ 0.7 21. ]\n",
      "[ 1.5 18. ]\n",
      "[ 1.6 10. ]\n",
      "[ 1. 13.]\n",
      "[ 1.1 22. ]\n",
      "[0.1 9. ]\n",
      "[ 0.5 20. ]\n",
      "[ 1.7 12. ]\n",
      "[ 0.4 30. ]\n",
      "[ 1.7 23. ]\n",
      "[1. 9.]\n",
      "[0.7 9. ]\n",
      "[ 1. 24.]\n",
      "[ 1.7 22. ]\n",
      "[0.7 5. ]\n",
      "[ 1.9 27. ]\n"
     ]
    }
   ],
   "source": [
    "# return TP_FP, FN, precision, recall, Fscore\n",
    "TH = np.array([0,0.1,0.2,0.3,0.4,0.5,0.6,0.7,0.8,0.9,1.0,1.1,1.2,1.3,1.4,1.5,1.6,1.7,1.8,1.9,2.0])\n",
    "lag = np.arange(0,31)\n",
    "state_best_th_lag = np.zeros((NUM_STATES,2))\n",
    "\n",
    "for idx_s, state in enumerate(STATES):\n",
    "    best_th_lag = np.zeros(2)\n",
    "    best_lag = 0\n",
    "    best_f_score = 0\n",
    "    target = state[3:]\n",
    "    L = covid_case_outbreak_detection_all(actual_all_small, target)\n",
    "    for idx_th, th in enumerate(TH):\n",
    "        for idx_l, l in enumerate(lag):   \n",
    "            \n",
    "            L_hat = pred_outbreak_detection(new_delta_small, L_hat_period_small, th)\n",
    "            all_S, L_window = comparison_all(state, L, L_hat, l)\n",
    "            metr = metrics(all_S, L_window)\n",
    "            \n",
    "            if metr[4] > best_f_score:\n",
    "                best_th_lag[0] = th\n",
    "                best_th_lag[1] = l\n",
    "                best_f_score = metr[4]\n",
    "                \n",
    "    state_best_th_lag[idx_s] = best_th_lag\n",
    "    print(best_th_lag)\n",
    "np.save(\"best_th_lag_small_CC.npy\", state_best_th_lag)"
   ]
  },
  {
   "cell_type": "code",
   "execution_count": 55,
   "metadata": {},
   "outputs": [],
   "source": [
    "state_best_th_lag = load('best_th_lag_small_CC.npy')\n",
    "state_TP_FP = np.zeros((NUM_STATES,2))\n",
    "state_FN = np.zeros(NUM_STATES)\n",
    "state_fscore = np.zeros(NUM_STATES)\n",
    "state_precision = np.zeros(NUM_STATES)\n",
    "state_recall = np.zeros(NUM_STATES)\n",
    "\n",
    "total_real_anomalies = np.zeros(NUM_STATES)\n",
    "\n",
    "for idx_s, state in enumerate(STATES):\n",
    "    target = state[3:]    \n",
    "    L = covid_case_outbreak_detection_all(actual_all_small, target)\n",
    "            \n",
    "    L_hat = pred_outbreak_detection(new_delta_small, L_hat_period_small, state_best_th_lag[idx_s][0])\n",
    "    \n",
    "    all_S, L_window = comparison_all(state, L, L_hat, int(state_best_th_lag[idx_s][1]))\n",
    "    total_real_anomalies[idx_s] = np.sum(L_window)\n",
    "    metr = metrics(all_S, L_window)\n",
    "    \n",
    "    state_TP_FP[idx_s] = metr[0]\n",
    "    state_FN[idx_s] = metr[1]\n",
    "    state_precision[idx_s] = metr[2]\n",
    "    state_recall[idx_s] = metr[3]\n",
    "    state_fscore[idx_s] = metr[4]"
   ]
  },
  {
   "cell_type": "code",
   "execution_count": 56,
   "metadata": {},
   "outputs": [
    {
     "data": {
      "text/plain": [
       "0.4661048402667534"
      ]
     },
     "execution_count": 56,
     "metadata": {},
     "output_type": "execute_result"
    }
   ],
   "source": [
    "np.mean(state_fscore)"
   ]
  },
  {
   "cell_type": "markdown",
   "metadata": {},
   "source": [
    "# COMPARISON FLEXIBLE"
   ]
  },
  {
   "cell_type": "code",
   "execution_count": 210,
   "metadata": {},
   "outputs": [],
   "source": [
    "# Decreasing the FP\n",
    "def comparison_flexi(target_region, L, L_hat, lag):\n",
    "    target_reg_idx = get_target_region_idx(target_region)\n",
    "    L_hat_region = L_hat.transpose()[target_reg_idx]\n",
    "    period = L_hat.shape[0]\n",
    "    \n",
    "    L_window = window_L(L, lag, period)\n",
    "    Lw = np.zeros(7)\n",
    "    S = np.zeros((period, 2)) \n",
    "    \n",
    "    documented = []\n",
    "    for idx_L, L_hat_day in enumerate(L_hat_region): \n",
    "\n",
    "        if idx_L < 3: \n",
    "            w = np.arange(0, (idx_L+4))\n",
    "        elif idx_L >= (period-3):\n",
    "            w = np.arange((idx_L-3), period)\n",
    "        else: \n",
    "            w = np.arange((idx_L-3), (idx_L+4))\n",
    "    \n",
    "        Lw = L_window[w]\n",
    "        s = np.zeros(2)\n",
    "        \n",
    "        if L_hat_day == 1:\n",
    "            if np.sum(Lw) > 0: \n",
    "                L_outbreaks = np.argwhere(Lw == 1).flatten()\n",
    "                date_idx_L_outbreaks = w[L_outbreaks]\n",
    "\n",
    "                # what dates are in date_idx_L_outbreaks that isnt in documented?\n",
    "                undocumented = np.setdiff1d(date_idx_L_outbreaks, np.array(documented))\n",
    "                if len(undocumented) > 0:\n",
    "                    s[0] = 1\n",
    "                    documented.append(undocumented[0])\n",
    "                # Else it will be a TN (wont be penalised as a FP)\n",
    "            else:\n",
    "                s[1] = 1\n",
    "        S[idx_L] = s\n",
    "    return S, L_window         "
   ]
  },
  {
   "cell_type": "code",
   "execution_count": 211,
   "metadata": {
    "jupyter": {
     "source_hidden": true
    }
   },
   "outputs": [
    {
     "name": "stdout",
     "output_type": "stream",
     "text": [
      "L\n",
      "2020-03-07 - 2021-02-23\n",
      "\n",
      "L_hat\n",
      "2020-03-07 - 2020-12-31\n"
     ]
    }
   ],
   "source": [
    "# 30 days before 2021-02-23 is 2021-01-24\n",
    "actual_all = actual_cases[(actual_cases.date >= '2020-03-01') & (actual_cases.date <= '2021-02-23')]\n",
    "\n",
    "print(\"L\")\n",
    "print(min(actual_all.date) + \" - \" + max(actual_all.date))\n",
    "print()\n",
    "print(\"L_hat\")\n",
    "print(\"2020-03-07 - 2020-12-31\")"
   ]
  },
  {
   "cell_type": "markdown",
   "metadata": {},
   "source": [
    "# New Symp: Common Cold and Skin Rash"
   ]
  },
  {
   "cell_type": "markdown",
   "metadata": {},
   "source": [
    "### Strict"
   ]
  },
  {
   "cell_type": "code",
   "execution_count": 34,
   "metadata": {},
   "outputs": [
    {
     "name": "stdout",
     "output_type": "stream",
     "text": [
      "New delta created\n"
     ]
    }
   ],
   "source": [
    "data_Mar = load('results/new_symp/Mar20_01_31.npy')\n",
    "data_Apr = load('results/new_symp/Apr20_01_30.npy')\n",
    "data_May = load('results/new_symp/May20_01_31.npy')\n",
    "data_Jun = load('results/new_symp/Jun20_01_30.npy')\n",
    "data_Jul = load('results/new_symp/Jul20_01_31.npy')\n",
    "data_Aug = load('results/new_symp/Aug20_01_31.npy')\n",
    "data_Sept = load('results/new_symp/Sept20_01_30.npy')\n",
    "data_Oct = load('results/new_symp/Oct20_01_31.npy')\n",
    "data_Nov = load('results/new_symp/Nov20_01_30.npy')\n",
    "data_Dec = load('results/new_symp/Dec20_01_31.npy')\n",
    "\n",
    "period_nov = data_Nov.shape[0]\n",
    "period_31 = data_Mar.shape[0]\n",
    "period_30 = data_Apr.shape[0]\n",
    "\n",
    "# Where only considering DIARRHEA x SKIN RASH\n",
    "# MARCH STARTS ON 7th \n",
    "new_delta_Mar = new_delta_mat(data_Mar, period_31, 2, 9)[6:]\n",
    "new_delta_Apr = new_delta_mat(data_Apr, period_30, 2, 9)\n",
    "new_delta_May = new_delta_mat(data_May, period_31, 2, 9)\n",
    "new_delta_Jun = new_delta_mat(data_Jun, period_30, 2, 9)\n",
    "new_delta_Jul = new_delta_mat(data_Jul, period_31, 2, 9)\n",
    "new_delta_Aug = new_delta_mat(data_Aug, period_31, 2, 9)\n",
    "new_delta_Sept = new_delta_mat(data_Sept, period_30, 2, 9)\n",
    "new_delta_Oct = new_delta_mat(data_Oct, period_31, 2, 9)\n",
    "new_delta_Nov = new_delta_mat(data_Nov, period_30, 2, 9)\n",
    "new_delta_Dec = new_delta_mat(data_Dec, period_31, 2, 9)\n",
    "print(\"New delta created\")"
   ]
  },
  {
   "cell_type": "code",
   "execution_count": 213,
   "metadata": {},
   "outputs": [
    {
     "name": "stdout",
     "output_type": "stream",
     "text": [
      "Original training data loaded 300\n"
     ]
    }
   ],
   "source": [
    "# Joining of new delta: 7th Mar - Jan 2021\n",
    "new_delta = np.concatenate((new_delta_Mar, new_delta_Apr), axis=0)\n",
    "new_delta = np.concatenate((new_delta, new_delta_May), axis=0)\n",
    "new_delta = np.concatenate((new_delta, new_delta_Jun), axis=0)\n",
    "new_delta = np.concatenate((new_delta, new_delta_Jul), axis=0)\n",
    "new_delta = np.concatenate((new_delta, new_delta_Aug), axis=0)\n",
    "new_delta = np.concatenate((new_delta, new_delta_Sept), axis=0)\n",
    "new_delta = np.concatenate((new_delta, new_delta_Oct), axis=0)\n",
    "new_delta = np.concatenate((new_delta, new_delta_Nov), axis=0)\n",
    "new_delta = np.concatenate((new_delta, new_delta_Dec), axis=0)\n",
    "\n",
    "# March 7th - 31 Dec 2020\n",
    "L_hat_period_all = new_delta.shape[0]\n",
    "print(\"Original training data loaded\", L_hat_period_all)"
   ]
  },
  {
   "cell_type": "code",
   "execution_count": 214,
   "metadata": {
    "collapsed": true,
    "jupyter": {
     "outputs_hidden": true,
     "source_hidden": true
    }
   },
   "outputs": [
    {
     "name": "stderr",
     "output_type": "stream",
     "text": [
      "/Users/nadhirahrafidz/opt/anaconda3/lib/python3.7/site-packages/ipykernel_launcher.py:6: RuntimeWarning: invalid value encountered in double_scalars\n",
      "  \n"
     ]
    },
    {
     "name": "stdout",
     "output_type": "stream",
     "text": [
      "[1. 2.]\n",
      "[1.7 8. ]\n",
      "[ 0.7 25. ]\n",
      "[ 0.5 29. ]\n",
      "[ 1.4 14. ]\n",
      "[1.4 6. ]\n",
      "[ 0. 23.]\n",
      "[ 1.2 25. ]\n",
      "[ 0.9 23. ]\n",
      "[2. 2.]\n",
      "[0.7 5. ]\n",
      "[1.6 0. ]\n",
      "[ 0.4 10. ]\n",
      "[2. 0.]\n",
      "[ 1.6 14. ]\n",
      "[0.8 5. ]\n",
      "[ 0.2 30. ]\n",
      "[0.8 8. ]\n",
      "[ 0.6 30. ]\n",
      "[2. 0.]\n",
      "[ 0.6 21. ]\n",
      "[ 2. 10.]\n",
      "[ 0.4 29. ]\n",
      "[ 0.4 14. ]\n",
      "[2. 6.]\n",
      "[1.8 0. ]\n",
      "[0.6 7. ]\n",
      "[ 1.3 16. ]\n",
      "[2. 2.]\n",
      "[1.4 0. ]\n",
      "[0.7 6. ]\n",
      "[ 1.2 28. ]\n",
      "[1.4 7. ]\n",
      "[ 0.6 15. ]\n",
      "[0.4 2. ]\n",
      "[1.2 1. ]\n",
      "[ 0.9 10. ]\n",
      "[ 1.4 24. ]\n",
      "[ 2. 13.]\n",
      "[ 2. 30.]\n",
      "[1.2 2. ]\n",
      "[1.3 0. ]\n",
      "[1.4 6. ]\n",
      "[1.3 0. ]\n",
      "[ 1.3 15. ]\n",
      "[ 2. 25.]\n",
      "[0.7 5. ]\n",
      "[ 0.1 23. ]\n",
      "[ 1.4 30. ]\n",
      "[ 0.5 11. ]\n",
      "[ 1.1 25. ]\n"
     ]
    }
   ],
   "source": [
    "# return TP_FP, FN, precision, recall, Fscore\n",
    "TH = np.array([0,0.1,0.2,0.3,0.4,0.5,0.6,0.7,0.8,0.9,1.0,1.1,1.2,1.3,1.4,1.5,1.6,1.7,1.8,1.9,2.0])\n",
    "lag = np.arange(0,31)\n",
    "state_best_th_lag = np.zeros((NUM_STATES,2))\n",
    "\n",
    "for idx_s, state in enumerate(STATES):\n",
    "    best_th_lag = np.zeros(2)\n",
    "    best_lag = 0\n",
    "    best_f_score = 0\n",
    "    target = state[3:]\n",
    "    L = covid_case_outbreak_detection_all(actual_all, target)\n",
    "    for idx_th, th in enumerate(TH):\n",
    "        for idx_l, l in enumerate(lag):   \n",
    "            \n",
    "            L_hat = pred_outbreak_detection(new_delta, L_hat_period_all, th)\n",
    "            all_S, L_window = comparison_all(state, L, L_hat, l)\n",
    "            metr = metrics(all_S, L_window)\n",
    "            \n",
    "            if metr[4] > best_f_score:\n",
    "                best_th_lag[0] = th\n",
    "                best_th_lag[1] = l\n",
    "                best_f_score = metr[4]\n",
    "                \n",
    "    state_best_th_lag[idx_s] = best_th_lag\n",
    "    print(best_th_lag)\n",
    "np.save(\"best_th_lag_SYMP.npy\", state_best_th_lag)"
   ]
  },
  {
   "cell_type": "code",
   "execution_count": 218,
   "metadata": {},
   "outputs": [],
   "source": [
    "state_best_th_lag = load('best_th_lag_SYMP.npy')\n",
    "state_TP_FP = np.zeros((NUM_STATES,2))\n",
    "state_FN = np.zeros(NUM_STATES)\n",
    "state_fscore = np.zeros(NUM_STATES)\n",
    "state_precision = np.zeros(NUM_STATES)\n",
    "state_recall = np.zeros(NUM_STATES)\n",
    "\n",
    "total_real_anomalies = np.zeros(NUM_STATES)\n",
    "\n",
    "for idx_s, state in enumerate(STATES):\n",
    "    target = state[3:]    \n",
    "    L = covid_case_outbreak_detection_all(actual_all, target)\n",
    "            \n",
    "    L_hat = pred_outbreak_detection(new_delta, L_hat_period_all, state_best_th_lag[idx_s][0])\n",
    "    \n",
    "    all_S, L_window = comparison_all(state, L, L_hat, int(state_best_th_lag[idx_s][1]))\n",
    "    total_real_anomalies[idx_s] = np.sum(L_window)\n",
    "    metr = metrics(all_S, L_window)\n",
    "    \n",
    "    state_TP_FP[idx_s] = metr[0]\n",
    "    state_FN[idx_s] = metr[1]\n",
    "    state_precision[idx_s] = metr[2]\n",
    "    state_recall[idx_s] = metr[3]\n",
    "    state_fscore[idx_s] = metr[4]"
   ]
  },
  {
   "cell_type": "code",
   "execution_count": 219,
   "metadata": {},
   "outputs": [
    {
     "name": "stdout",
     "output_type": "stream",
     "text": [
      "0.4183051034998034\n"
     ]
    }
   ],
   "source": [
    "print(np.mean(state_fscore))"
   ]
  },
  {
   "cell_type": "code",
   "execution_count": 220,
   "metadata": {},
   "outputs": [],
   "source": [
    "np.savetxt(\"state_TP_FP.csv\", state_TP_FP, delimiter=\",\")\n",
    "np.savetxt(\"state_FN.csv\", state_FN, delimiter=\",\")\n",
    "np.savetxt(\"state_precision.csv\", state_precision, delimiter=\",\")\n",
    "np.savetxt(\"state_recall.csv\", state_recall, delimiter=\",\")\n",
    "np.savetxt(\"state_fscore.csv\", state_fscore, delimiter=\",\")\n",
    "np.savetxt(\"total_real_anomalies.csv\", total_real_anomalies, delimiter=\",\")\n",
    "np.savetxt(\"state_best_th_lag.csv\", state_best_th_lag, delimiter=\",\")"
   ]
  },
  {
   "cell_type": "code",
   "execution_count": 29,
   "metadata": {},
   "outputs": [
    {
     "name": "stdout",
     "output_type": "stream",
     "text": [
      "(array([ 6., 21.]), 14.0, 0.2222222222222222, 0.3, 0.25531914893617025)\n"
     ]
    },
    {
     "data": {
      "text/plain": [
       "<matplotlib.legend.Legend at 0x7fc493cb72d0>"
      ]
     },
     "execution_count": 29,
     "metadata": {},
     "output_type": "execute_result"
    },
    {
     "data": {
      "image/png": "[encoded data removed]",
      "text/plain": [
       "<Figure size 2160x360 with 1 Axes>"
      ]
     },
     "metadata": {
      "needs_background": "light"
     },
     "output_type": "display_data"
    }
   ],
   "source": [
    "# precision, recall, Fscore\n",
    "state_lag = 24\n",
    "state_th = 0.4\n",
    "AR = get_target_region_idx(\"US-AR\")\n",
    "\n",
    "L_AR = covid_case_outbreak_detection_all(actual_all, \"AR\")\n",
    "\n",
    "L_hat_AR = pred_outbreak_detection(new_delta, L_hat_period_all, state_th)\n",
    "AR_S, L_window_AR = comparison_all(\"US-CT\", L_AR, L_hat_AR, state_lag)\n",
    "\n",
    "print(metrics(AR_S, L_window_AR))\n",
    "\n",
    "fig, ax = plt.subplots(1, 1)\n",
    "fig.set_figheight(5)\n",
    "fig.set_figwidth(30)\n",
    "\n",
    "ax.set_ylabel(\"Anomaly\")\n",
    "ax.set_xlabel(\"day\")\n",
    "ax.set_title(\"Anomaly Detection During Training Period\")\n",
    "ax.set_yticks(np.array([0,1]))\n",
    "ax.plot(np.array(range(300)),L_hat_AR.transpose()[AR], marker='o',  markersize=10, color='c', linewidth=0, label=\"Symptom Rate Anomaly\")\n",
    "ax.plot(np.array(range(300)),L_window_AR, marker='x',  markersize=10, color='r', linewidth=0, label=\"Covid-19 Case Anomaly\")\n",
    "ax.legend(loc=\"center left\")"
   ]
  },
  {
   "cell_type": "markdown",
   "metadata": {},
   "source": [
    "## Flexible"
   ]
  },
  {
   "cell_type": "code",
   "execution_count": 50,
   "metadata": {},
   "outputs": [
    {
     "name": "stderr",
     "output_type": "stream",
     "text": [
      "/Users/nadhirahrafidz/opt/anaconda3/lib/python3.7/site-packages/ipykernel_launcher.py:6: RuntimeWarning: invalid value encountered in double_scalars\n",
      "  \n"
     ]
    }
   ],
   "source": [
    "# return TP_FP, FN, precision, recall, Fscore\n",
    "TH = np.array([0,0.1,0.2,0.3,0.4,0.5,0.6,0.7,0.8,0.9,1.0,1.1,1.2,1.3,1.4,1.5,1.6,1.7,1.8,1.9,2.0])\n",
    "lag = np.arange(0,31)\n",
    "state_best_th_lag_flexi = np.zeros((NUM_STATES,2))\n",
    "\n",
    "for idx_s, state in enumerate(STATES):\n",
    "    best_th_lag = np.zeros(2)\n",
    "    best_lag = 0\n",
    "    best_f_score = 0\n",
    "    target = state[3:]\n",
    "    L = covid_case_outbreak_detection_all(actual_all, target)\n",
    "    for idx_th, th in enumerate(TH):\n",
    "        for idx_l, l in enumerate(lag):   \n",
    "            \n",
    "            L_hat = pred_outbreak_detection(new_delta, L_hat_period_all, th)\n",
    "            all_S, L_window = comparison_flexi(state, L, L_hat, l)\n",
    "            metr = metrics(all_S, L_window)\n",
    "            \n",
    "            if metr[4] > best_f_score:\n",
    "                best_th_lag[0] = th\n",
    "                best_th_lag[1] = l\n",
    "                best_f_score = metr[4]\n",
    "                \n",
    "    state_best_th_lag_flexi[idx_s] = best_th_lag\n",
    "np.save(\"best_th_lag_flexi_newsymp.npy\", state_best_th_lag_flexi)"
   ]
  },
  {
   "cell_type": "code",
   "execution_count": 44,
   "metadata": {},
   "outputs": [],
   "source": [
    "state_best_th_lag = load('best_th_lag_flexi_newsymp.npy')\n",
    "state_TP_FP = np.zeros((NUM_STATES,2))\n",
    "state_FN = np.zeros(NUM_STATES)\n",
    "state_fscore = np.zeros(NUM_STATES)\n",
    "state_precision = np.zeros(NUM_STATES)\n",
    "state_recall = np.zeros(NUM_STATES)\n",
    "\n",
    "total_real_anomalies = np.zeros(NUM_STATES)\n",
    "\n",
    "for idx_s, state in enumerate(STATES):\n",
    "    target = state[3:]    \n",
    "    L = covid_case_outbreak_detection_all(actual_all, target)\n",
    "            \n",
    "    L_hat = pred_outbreak_detection(new_delta, L_hat_period_all, state_best_th_lag[idx_s][0])\n",
    "    \n",
    "    all_S, L_window = comparison_flexi(state, L, L_hat, int(state_best_th_lag[idx_s][1]))\n",
    "    total_real_anomalies[idx_s] = np.sum(L_window)\n",
    "    metr = metrics(all_S, L_window)\n",
    "    \n",
    "    state_TP_FP[idx_s] = metr[0]\n",
    "    state_FN[idx_s] = metr[1]\n",
    "    state_precision[idx_s] = metr[2]\n",
    "    state_recall[idx_s] = metr[3]\n",
    "    state_fscore[idx_s] = metr[4]"
   ]
  },
  {
   "cell_type": "code",
   "execution_count": 45,
   "metadata": {},
   "outputs": [
    {
     "data": {
      "text/plain": [
       "0.46401534304235414"
      ]
     },
     "execution_count": 45,
     "metadata": {},
     "output_type": "execute_result"
    }
   ],
   "source": [
    "np.mean(state_fscore)"
   ]
  },
  {
   "cell_type": "markdown",
   "metadata": {},
   "source": [
    "## New Symp: Cough and Fever"
   ]
  },
  {
   "cell_type": "markdown",
   "metadata": {},
   "source": [
    "## Strict"
   ]
  },
  {
   "cell_type": "code",
   "execution_count": 46,
   "metadata": {},
   "outputs": [
    {
     "name": "stdout",
     "output_type": "stream",
     "text": [
      "New delta created\n"
     ]
    }
   ],
   "source": [
    "data_Mar = load('results/new_symp/Mar20_01_31.npy')\n",
    "data_Apr = load('results/new_symp/Apr20_01_30.npy')\n",
    "data_May = load('results/new_symp/May20_01_31.npy')\n",
    "data_Jun = load('results/new_symp/Jun20_01_30.npy')\n",
    "data_Jul = load('results/new_symp/Jul20_01_31.npy')\n",
    "data_Aug = load('results/new_symp/Aug20_01_31.npy')\n",
    "data_Sept = load('results/new_symp/Sept20_01_30.npy')\n",
    "data_Oct = load('results/new_symp/Oct20_01_31.npy')\n",
    "data_Nov = load('results/new_symp/Nov20_01_30.npy')\n",
    "data_Dec = load('results/new_symp/Dec20_01_31.npy')\n",
    "\n",
    "period_nov = data_Nov.shape[0]\n",
    "period_31 = data_Mar.shape[0]\n",
    "period_30 = data_Apr.shape[0]\n",
    "\n",
    "# Where only considering Cough x Fever\n",
    "# MARCH STARTS ON 7th \n",
    "new_delta_Mar = new_delta_mat(data_Mar, period_31, 1, 4)[6:]\n",
    "new_delta_Apr = new_delta_mat(data_Apr, period_30, 1, 4)\n",
    "new_delta_May = new_delta_mat(data_May, period_31, 1, 4)\n",
    "new_delta_Jun = new_delta_mat(data_Jun, period_30, 1, 4)\n",
    "new_delta_Jul = new_delta_mat(data_Jul, period_31, 1, 4)\n",
    "new_delta_Aug = new_delta_mat(data_Aug, period_31, 1, 4)\n",
    "new_delta_Sept = new_delta_mat(data_Sept, period_30, 1, 4)\n",
    "new_delta_Oct = new_delta_mat(data_Oct, period_31, 1, 4)\n",
    "new_delta_Nov = new_delta_mat(data_Nov, period_30, 1, 4)\n",
    "new_delta_Dec = new_delta_mat(data_Dec, period_31, 1, 4)\n",
    "print(\"New delta created\")"
   ]
  },
  {
   "cell_type": "code",
   "execution_count": 47,
   "metadata": {},
   "outputs": [
    {
     "name": "stdout",
     "output_type": "stream",
     "text": [
      "Original training data loaded 300\n"
     ]
    }
   ],
   "source": [
    "# Joining of new delta: 7th Mar - Jan 2021\n",
    "new_delta = np.concatenate((new_delta_Mar, new_delta_Apr), axis=0)\n",
    "new_delta = np.concatenate((new_delta, new_delta_May), axis=0)\n",
    "new_delta = np.concatenate((new_delta, new_delta_Jun), axis=0)\n",
    "new_delta = np.concatenate((new_delta, new_delta_Jul), axis=0)\n",
    "new_delta = np.concatenate((new_delta, new_delta_Aug), axis=0)\n",
    "new_delta = np.concatenate((new_delta, new_delta_Sept), axis=0)\n",
    "new_delta = np.concatenate((new_delta, new_delta_Oct), axis=0)\n",
    "new_delta = np.concatenate((new_delta, new_delta_Nov), axis=0)\n",
    "new_delta = np.concatenate((new_delta, new_delta_Dec), axis=0)\n",
    "\n",
    "# March 7th - 31 Dec 2020\n",
    "L_hat_period_all = new_delta.shape[0]\n",
    "print(\"Original training data loaded\", L_hat_period_all)"
   ]
  },
  {
   "cell_type": "code",
   "execution_count": null,
   "metadata": {},
   "outputs": [],
   "source": [
    "# return TP_FP, FN, precision, recall, Fscore\n",
    "TH = np.array([0,0.1,0.2,0.3,0.4,0.5,0.6,0.7,0.8,0.9,1.0,1.1,1.2,1.3,1.4,1.5,1.6,1.7,1.8,1.9,2.0])\n",
    "lag = np.arange(0,31)\n",
    "state_best_th_lag = np.zeros((NUM_STATES,2))\n",
    "\n",
    "for idx_s, state in enumerate(STATES):\n",
    "    best_th_lag = np.zeros(2)\n",
    "    best_lag = 0\n",
    "    best_f_score = 0\n",
    "    target = state[3:]\n",
    "    L = covid_case_outbreak_detection_all(actual_all, target)\n",
    "    for idx_th, th in enumerate(TH):\n",
    "        for idx_l, l in enumerate(lag):   \n",
    "            \n",
    "            L_hat = pred_outbreak_detection(new_delta, L_hat_period_all, th)\n",
    "            all_S, L_window = comparison_all(state, L, L_hat, l)\n",
    "            metr = metrics(all_S, L_window)\n",
    "            \n",
    "            if metr[4] > best_f_score:\n",
    "                best_th_lag[0] = th\n",
    "                best_th_lag[1] = l\n",
    "                best_f_score = metr[4]\n",
    "                \n",
    "    state_best_th_lag[idx_s] = best_th_lag\n",
    "    print(best_th_lag)\n",
    "np.save(\"best_th_lag_SYMP_cough_fever.npy\", state_best_th_lag)"
   ]
  },
  {
   "cell_type": "code",
   "execution_count": 48,
   "metadata": {},
   "outputs": [],
   "source": [
    "state_best_th_lag = load('best_th_lag_SYMP_cough_fever.npy')\n",
    "state_TP_FP = np.zeros((NUM_STATES,2))\n",
    "state_FN = np.zeros(NUM_STATES)\n",
    "state_fscore = np.zeros(NUM_STATES)\n",
    "state_precision = np.zeros(NUM_STATES)\n",
    "state_recall = np.zeros(NUM_STATES)\n",
    "\n",
    "total_real_anomalies = np.zeros(NUM_STATES)\n",
    "\n",
    "for idx_s, state in enumerate(STATES):\n",
    "    target = state[3:]    \n",
    "    L = covid_case_outbreak_detection_all(actual_all, target)\n",
    "            \n",
    "    L_hat = pred_outbreak_detection(new_delta, L_hat_period_all, state_best_th_lag[idx_s][0])\n",
    "    \n",
    "    all_S, L_window = comparison_all(state, L, L_hat, int(state_best_th_lag[idx_s][1]))\n",
    "    total_real_anomalies[idx_s] = np.sum(L_window)\n",
    "    metr = metrics(all_S, L_window)\n",
    "    \n",
    "    state_TP_FP[idx_s] = metr[0]\n",
    "    state_FN[idx_s] = metr[1]\n",
    "    state_precision[idx_s] = metr[2]\n",
    "    state_recall[idx_s] = metr[3]\n",
    "    state_fscore[idx_s] = metr[4]"
   ]
  },
  {
   "cell_type": "code",
   "execution_count": 49,
   "metadata": {},
   "outputs": [
    {
     "data": {
      "text/plain": [
       "0.4133170566480897"
      ]
     },
     "execution_count": 49,
     "metadata": {},
     "output_type": "execute_result"
    }
   ],
   "source": [
    "np.mean(state_fscore)"
   ]
  },
  {
   "cell_type": "code",
   "execution_count": 38,
   "metadata": {},
   "outputs": [],
   "source": [
    "# np.savetxt(\"state_TP_FP.csv\", state_TP_FP, delimiter=\",\")\n",
    "# np.savetxt(\"state_FN.csv\", state_FN, delimiter=\",\")\n",
    "# np.savetxt(\"state_precision.csv\", state_precision, delimiter=\",\")\n",
    "# np.savetxt(\"state_recall.csv\", state_recall, delimiter=\",\")\n",
    "# np.savetxt(\"state_fscore.csv\", state_fscore, delimiter=\",\")\n",
    "# np.savetxt(\"total_real_anomalies.csv\", total_real_anomalies, delimiter=\",\")\n",
    "# np.savetxt(\"state_best_th_lag.csv\", state_best_th_lag, delimiter=\",\")"
   ]
  },
  {
   "cell_type": "markdown",
   "metadata": {},
   "source": [
    "## New Symp: Fever and Skin Rash"
   ]
  },
  {
   "cell_type": "markdown",
   "metadata": {},
   "source": [
    "## Strict"
   ]
  },
  {
   "cell_type": "code",
   "execution_count": 50,
   "metadata": {},
   "outputs": [
    {
     "name": "stdout",
     "output_type": "stream",
     "text": [
      "New delta created\n",
      "Original training data loaded 300\n"
     ]
    }
   ],
   "source": [
    "data_Mar = load('results/new_symp/Mar20_01_31.npy')\n",
    "data_Apr = load('results/new_symp/Apr20_01_30.npy')\n",
    "data_May = load('results/new_symp/May20_01_31.npy')\n",
    "data_Jun = load('results/new_symp/Jun20_01_30.npy')\n",
    "data_Jul = load('results/new_symp/Jul20_01_31.npy')\n",
    "data_Aug = load('results/new_symp/Aug20_01_31.npy')\n",
    "data_Sept = load('results/new_symp/Sept20_01_30.npy')\n",
    "data_Oct = load('results/new_symp/Oct20_01_31.npy')\n",
    "data_Nov = load('results/new_symp/Nov20_01_30.npy')\n",
    "data_Dec = load('results/new_symp/Dec20_01_31.npy')\n",
    "\n",
    "period_nov = data_Nov.shape[0]\n",
    "period_31 = data_Mar.shape[0]\n",
    "period_30 = data_Apr.shape[0]\n",
    "\n",
    "# Where only considering Cough x Fever\n",
    "# MARCH STARTS ON 7th \n",
    "new_delta_Mar = new_delta_mat(data_Mar, period_31, 9, 4)[6:]\n",
    "new_delta_Apr = new_delta_mat(data_Apr, period_30, 9, 4)\n",
    "new_delta_May = new_delta_mat(data_May, period_31, 9, 4)\n",
    "new_delta_Jun = new_delta_mat(data_Jun, period_30, 9, 4)\n",
    "new_delta_Jul = new_delta_mat(data_Jul, period_31, 9, 4)\n",
    "new_delta_Aug = new_delta_mat(data_Aug, period_31, 9, 4)\n",
    "new_delta_Sept = new_delta_mat(data_Sept, period_30, 9, 4)\n",
    "new_delta_Oct = new_delta_mat(data_Oct, period_31, 9, 4)\n",
    "new_delta_Nov = new_delta_mat(data_Nov, period_30, 9, 4)\n",
    "new_delta_Dec = new_delta_mat(data_Dec, period_31, 9, 4)\n",
    "print(\"New delta created\")\n",
    "\n",
    "# Joining of new delta: 7th Mar - Jan 2021\n",
    "new_delta = np.concatenate((new_delta_Mar, new_delta_Apr), axis=0)\n",
    "new_delta = np.concatenate((new_delta, new_delta_May), axis=0)\n",
    "new_delta = np.concatenate((new_delta, new_delta_Jun), axis=0)\n",
    "new_delta = np.concatenate((new_delta, new_delta_Jul), axis=0)\n",
    "new_delta = np.concatenate((new_delta, new_delta_Aug), axis=0)\n",
    "new_delta = np.concatenate((new_delta, new_delta_Sept), axis=0)\n",
    "new_delta = np.concatenate((new_delta, new_delta_Oct), axis=0)\n",
    "new_delta = np.concatenate((new_delta, new_delta_Nov), axis=0)\n",
    "new_delta = np.concatenate((new_delta, new_delta_Dec), axis=0)\n",
    "\n",
    "# March 7th - 31 Dec 2020\n",
    "L_hat_period_all = new_delta.shape[0]\n",
    "print(\"Original training data loaded\", L_hat_period_all)"
   ]
  },
  {
   "cell_type": "code",
   "execution_count": null,
   "metadata": {},
   "outputs": [],
   "source": [
    "# return TP_FP, FN, precision, recall, Fscore\n",
    "TH = np.array([0,0.1,0.2,0.3,0.4,0.5,0.6,0.7,0.8,0.9,1.0,1.1,1.2,1.3,1.4,1.5,1.6,1.7,1.8,1.9,2.0])\n",
    "lag = np.arange(0,31)\n",
    "state_best_th_lag = np.zeros((NUM_STATES,2))\n",
    "\n",
    "for idx_s, state in enumerate(STATES):\n",
    "    best_th_lag = np.zeros(2)\n",
    "    best_lag = 0\n",
    "    best_f_score = 0\n",
    "    target = state[3:]\n",
    "    L = covid_case_outbreak_detection_all(actual_all, target)\n",
    "    for idx_th, th in enumerate(TH):\n",
    "        for idx_l, l in enumerate(lag):   \n",
    "            \n",
    "            L_hat = pred_outbreak_detection(new_delta, L_hat_period_all, th)\n",
    "            all_S, L_window = comparison_all(state, L, L_hat, l)\n",
    "            metr = metrics(all_S, L_window)\n",
    "            \n",
    "            if metr[4] > best_f_score:\n",
    "                best_th_lag[0] = th\n",
    "                best_th_lag[1] = l\n",
    "                best_f_score = metr[4]\n",
    "                \n",
    "    state_best_th_lag[idx_s] = best_th_lag\n",
    "    print(best_th_lag)\n",
    "np.save(\"best_th_lag_SYMP_skin_fever.npy\", state_best_th_lag)"
   ]
  },
  {
   "cell_type": "code",
   "execution_count": 51,
   "metadata": {},
   "outputs": [],
   "source": [
    "state_best_th_lag = load('best_th_lag_SYMP_skin_fever.npy')\n",
    "state_TP_FP = np.zeros((NUM_STATES,2))\n",
    "state_FN = np.zeros(NUM_STATES)\n",
    "state_fscore = np.zeros(NUM_STATES)\n",
    "state_precision = np.zeros(NUM_STATES)\n",
    "state_recall = np.zeros(NUM_STATES)\n",
    "\n",
    "total_real_anomalies = np.zeros(NUM_STATES)\n",
    "\n",
    "for idx_s, state in enumerate(STATES):\n",
    "    target = state[3:]    \n",
    "    L = covid_case_outbreak_detection_all(actual_all, target)\n",
    "            \n",
    "    L_hat = pred_outbreak_detection(new_delta, L_hat_period_all, state_best_th_lag[idx_s][0])\n",
    "    \n",
    "    all_S, L_window = comparison_all(state, L, L_hat, int(state_best_th_lag[idx_s][1]))\n",
    "    total_real_anomalies[idx_s] = np.sum(L_window)\n",
    "    metr = metrics(all_S, L_window)\n",
    "    \n",
    "    state_TP_FP[idx_s] = metr[0]\n",
    "    state_FN[idx_s] = metr[1]\n",
    "    state_precision[idx_s] = metr[2]\n",
    "    state_recall[idx_s] = metr[3]\n",
    "    state_fscore[idx_s] = metr[4]"
   ]
  },
  {
   "cell_type": "code",
   "execution_count": 52,
   "metadata": {},
   "outputs": [
    {
     "data": {
      "text/plain": [
       "0.41052937578626936"
      ]
     },
     "execution_count": 52,
     "metadata": {},
     "output_type": "execute_result"
    }
   ],
   "source": [
    "np.mean(state_fscore)"
   ]
  },
  {
   "cell_type": "markdown",
   "metadata": {},
   "source": [
    "# Completely NEW DELTAS using limited symptoms"
   ]
  },
  {
   "cell_type": "code",
   "execution_count": 53,
   "metadata": {},
   "outputs": [
    {
     "name": "stdout",
     "output_type": "stream",
     "text": [
      "New delta created\n",
      "Original training data loaded 300\n"
     ]
    }
   ],
   "source": [
    "data_Mar = load('results/new_symp/new_symp_limited/Mar_01_31.npy')\n",
    "data_Apr = load('results/new_symp/new_symp_limited/Apr_01_30.npy')\n",
    "data_May = load('results/new_symp/new_symp_limited/May_01_31.npy')\n",
    "data_Jun = load('results/new_symp/new_symp_limited/Jun_01_30.npy')\n",
    "data_Jul = load('results/new_symp/new_symp_limited/Jul_01_31.npy')\n",
    "data_Aug = load('results/new_symp/new_symp_limited/Aug_01_31.npy')\n",
    "data_Sept = load('results/new_symp/new_symp_limited/Sept_01_31.npy')\n",
    "data_Oct = load('results/new_symp/new_symp_limited/Oct_01_31.npy')\n",
    "data_Nov = load('results/new_symp/new_symp_limited/Nov_01_30.npy')\n",
    "data_Dec = load('results/new_symp/new_symp_limited/Dec_01_31.npy')\n",
    "\n",
    "period_nov = data_Nov.shape[0]\n",
    "period_31 = data_Mar.shape[0]\n",
    "period_30 = data_Apr.shape[0]\n",
    "\n",
    "# Where only considering Cough x Fever\n",
    "# MARCH STARTS ON 7th \n",
    "new_delta_Mar = new_delta_mat(data_Mar, period_31, 1, 3)[6:]\n",
    "new_delta_Apr = new_delta_mat(data_Apr, period_30, 1, 3)\n",
    "new_delta_May = new_delta_mat(data_May, period_31, 1, 3)\n",
    "new_delta_Jun = new_delta_mat(data_Jun, period_30, 1, 3)\n",
    "new_delta_Jul = new_delta_mat(data_Jul, period_31, 1, 3)\n",
    "new_delta_Aug = new_delta_mat(data_Aug, period_31, 1, 3)\n",
    "new_delta_Sept = new_delta_mat(data_Sept, period_30, 1, 3)\n",
    "new_delta_Oct = new_delta_mat(data_Oct, period_31, 1, 3)\n",
    "new_delta_Nov = new_delta_mat(data_Nov, period_30, 1, 3)\n",
    "new_delta_Dec = new_delta_mat(data_Dec, period_31, 1, 3)\n",
    "print(\"New delta created\")\n",
    "\n",
    "# Joining of new delta: 7th Mar - Jan 2021\n",
    "new_delta = np.concatenate((new_delta_Mar, new_delta_Apr), axis=0)\n",
    "new_delta = np.concatenate((new_delta, new_delta_May), axis=0)\n",
    "new_delta = np.concatenate((new_delta, new_delta_Jun), axis=0)\n",
    "new_delta = np.concatenate((new_delta, new_delta_Jul), axis=0)\n",
    "new_delta = np.concatenate((new_delta, new_delta_Aug), axis=0)\n",
    "new_delta = np.concatenate((new_delta, new_delta_Sept), axis=0)\n",
    "new_delta = np.concatenate((new_delta, new_delta_Oct), axis=0)\n",
    "new_delta = np.concatenate((new_delta, new_delta_Nov), axis=0)\n",
    "new_delta = np.concatenate((new_delta, new_delta_Dec), axis=0)\n",
    "\n",
    "# March 7th - 31 Dec 2020\n",
    "L_hat_period_all = new_delta.shape[0]\n",
    "print(\"Original training data loaded\", L_hat_period_all)"
   ]
  },
  {
   "cell_type": "markdown",
   "metadata": {},
   "source": [
    "__Diarrhea and Fever__"
   ]
  },
  {
   "cell_type": "code",
   "execution_count": null,
   "metadata": {},
   "outputs": [],
   "source": [
    "# return TP_FP, FN, precision, recall, Fscore\n",
    "TH = np.array([0,0.1,0.2,0.3,0.4,0.5,0.6,0.7,0.8,0.9,1.0,1.1,1.2,1.3,1.4,1.5,1.6,1.7,1.8,1.9,2.0])\n",
    "lag = np.arange(0,31)\n",
    "state_best_th_lag = np.zeros((NUM_STATES,2))\n",
    "\n",
    "for idx_s, state in enumerate(STATES):\n",
    "    best_th_lag = np.zeros(2)\n",
    "    best_lag = 0\n",
    "    best_f_score = 0\n",
    "    target = state[3:]\n",
    "    L = covid_case_outbreak_detection_all(actual_all, target)\n",
    "    for idx_th, th in enumerate(TH):\n",
    "        for idx_l, l in enumerate(lag):   \n",
    "            \n",
    "            L_hat = pred_outbreak_detection(new_delta, L_hat_period_all, th)\n",
    "            all_S, L_window = comparison_all(state, L, L_hat, l)\n",
    "            metr = metrics(all_S, L_window)\n",
    "            \n",
    "            if metr[4] > best_f_score:\n",
    "                best_th_lag[0] = th\n",
    "                best_th_lag[1] = l\n",
    "                best_f_score = metr[4]\n",
    "                \n",
    "    state_best_th_lag[idx_s] = best_th_lag\n",
    "    print(best_th_lag)\n",
    "np.save(\"best_th_lag_SYMPLIM_diarr_fever.npy\", state_best_th_lag)"
   ]
  },
  {
   "cell_type": "code",
   "execution_count": 71,
   "metadata": {},
   "outputs": [],
   "source": [
    "state_best_th_lag = load('best_th_lag_SYMPLIM_diarr_fever.npy')\n",
    "state_TP_FP = np.zeros((NUM_STATES,2))\n",
    "state_FN = np.zeros(NUM_STATES)\n",
    "state_fscore = np.zeros(NUM_STATES)\n",
    "state_precision = np.zeros(NUM_STATES)\n",
    "state_recall = np.zeros(NUM_STATES)\n",
    "\n",
    "total_real_anomalies = np.zeros(NUM_STATES)\n",
    "\n",
    "for idx_s, state in enumerate(STATES):\n",
    "    target = state[3:]    \n",
    "    L = covid_case_outbreak_detection_all(actual_all, target)\n",
    "            \n",
    "    L_hat = pred_outbreak_detection(new_delta, L_hat_period_all, state_best_th_lag[idx_s][0])\n",
    "    \n",
    "    all_S, L_window = comparison_all(state, L, L_hat, int(state_best_th_lag[idx_s][1]))\n",
    "    total_real_anomalies[idx_s] = np.sum(L_window)\n",
    "    metr = metrics(all_S, L_window)\n",
    "    \n",
    "    state_TP_FP[idx_s] = metr[0]\n",
    "    state_FN[idx_s] = metr[1]\n",
    "    state_precision[idx_s] = metr[2]\n",
    "    state_recall[idx_s] = metr[3]\n",
    "    state_fscore[idx_s] = metr[4]"
   ]
  },
  {
   "cell_type": "code",
   "execution_count": 54,
   "metadata": {},
   "outputs": [
    {
     "name": "stdout",
     "output_type": "stream",
     "text": [
      "0.41052937578626936\n"
     ]
    }
   ],
   "source": [
    "print(np.mean(state_fscore))"
   ]
  },
  {
   "cell_type": "markdown",
   "metadata": {},
   "source": [
    "### Flexi"
   ]
  },
  {
   "cell_type": "code",
   "execution_count": 77,
   "metadata": {},
   "outputs": [
    {
     "name": "stderr",
     "output_type": "stream",
     "text": [
      "/Users/nadhirahrafidz/opt/anaconda3/lib/python3.7/site-packages/ipykernel_launcher.py:6: RuntimeWarning: invalid value encountered in double_scalars\n",
      "  \n"
     ]
    }
   ],
   "source": [
    "# return TP_FP, FN, precision, recall, Fscore\n",
    "TH = np.array([0,0.1,0.2,0.3,0.4,0.5,0.6,0.7,0.8,0.9,1.0,1.1,1.2,1.3,1.4,1.5,1.6,1.7,1.8,1.9,2.0])\n",
    "lag = np.arange(0,31)\n",
    "state_best_th_lag_flexi = np.zeros((NUM_STATES,2))\n",
    "\n",
    "for idx_s, state in enumerate(STATES):\n",
    "    best_th_lag = np.zeros(2)\n",
    "    best_lag = 0\n",
    "    best_f_score = 0\n",
    "    target = state[3:]\n",
    "    L = covid_case_outbreak_detection_all(actual_all, target)\n",
    "    for idx_th, th in enumerate(TH):\n",
    "        for idx_l, l in enumerate(lag):   \n",
    "            \n",
    "            L_hat = pred_outbreak_detection(new_delta, L_hat_period_all, th)\n",
    "            all_S, L_window = comparison_flexi(state, L, L_hat, l)\n",
    "            metr = metrics(all_S, L_window)\n",
    "            \n",
    "            if metr[4] > best_f_score:\n",
    "                best_th_lag[0] = th\n",
    "                best_th_lag[1] = l\n",
    "                best_f_score = metr[4]\n",
    "                \n",
    "    state_best_th_lag_flexi[idx_s] = best_th_lag\n",
    "np.save(\"best_th_lag_flexi_newsymp_diar_fever.npy\", state_best_th_lag_flexi)"
   ]
  },
  {
   "cell_type": "code",
   "execution_count": 55,
   "metadata": {},
   "outputs": [],
   "source": [
    "state_best_th_lag = load('best_th_lag_flexi_newsymp_diar_fever.npy')\n",
    "state_TP_FP = np.zeros((NUM_STATES,2))\n",
    "state_FN = np.zeros(NUM_STATES)\n",
    "state_fscore = np.zeros(NUM_STATES)\n",
    "state_precision = np.zeros(NUM_STATES)\n",
    "state_recall = np.zeros(NUM_STATES)\n",
    "\n",
    "total_real_anomalies = np.zeros(NUM_STATES)\n",
    "\n",
    "for idx_s, state in enumerate(STATES):\n",
    "    target = state[3:]    \n",
    "    L = covid_case_outbreak_detection_all(actual_all, target)\n",
    "            \n",
    "    L_hat = pred_outbreak_detection(new_delta, L_hat_period_all, state_best_th_lag[idx_s][0])\n",
    "    \n",
    "    all_S, L_window = comparison_flexi(state, L, L_hat, int(state_best_th_lag[idx_s][1]))\n",
    "    total_real_anomalies[idx_s] = np.sum(L_window)\n",
    "    metr = metrics(all_S, L_window)\n",
    "    \n",
    "    state_TP_FP[idx_s] = metr[0]\n",
    "    state_FN[idx_s] = metr[1]\n",
    "    state_precision[idx_s] = metr[2]\n",
    "    state_recall[idx_s] = metr[3]\n",
    "    state_fscore[idx_s] = metr[4]"
   ]
  },
  {
   "cell_type": "code",
   "execution_count": 56,
   "metadata": {},
   "outputs": [
    {
     "name": "stdout",
     "output_type": "stream",
     "text": [
      "0.43504470005848994\n"
     ]
    }
   ],
   "source": [
    "print(np.mean(state_fscore))"
   ]
  }
 ],
 "metadata": {
  "kernelspec": {
   "display_name": "Python 3",
   "language": "python",
   "name": "python3"
  },
  "language_info": {
   "codemirror_mode": {
    "name": "ipython",
    "version": 3
   },
   "file_extension": ".py",
   "mimetype": "text/x-python",
   "name": "python",
   "nbconvert_exporter": "python",
   "pygments_lexer": "ipython3",
   "version": "3.7.6"
  }
 },
 "nbformat": 4,
 "nbformat_minor": 4
}
